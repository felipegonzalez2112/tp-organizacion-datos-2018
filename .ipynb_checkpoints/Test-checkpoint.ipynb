{
 "cells": [
  {
   "cell_type": "code",
   "execution_count": null,
   "metadata": {},
   "outputs": [],
   "source": [
    "import numpy as np \n",
    "import pandas as pd\n",
    "import datetime as DT\n",
    "import matplotlib as mlab\n",
    "\n",
    "import calendar\n",
    "import warnings\n",
    "from datetime import datetime\n",
    "warnings.filterwarnings('ignore')\n",
    "\n",
    "#Plots\n",
    "import matplotlib.pyplot as plt\n",
    "import seaborn as sns\n",
    "%matplotlib inline"
   ]
  },
  {
   "cell_type": "code",
   "execution_count": null,
   "metadata": {},
   "outputs": [],
   "source": [
    "#Cargamos los dataframes con los CSVs de Navent\n",
    "\n",
    "fiuba1 = pd.read_csv('../datos_navent_fiuba/fiuba_1_postulantes_educacion.csv')\n",
    "postulantes_genero = pd.read_csv('../datos_navent_fiuba/fiuba_2_postulantes_genero_y_edad.csv')\n",
    "vistas = pd.read_csv('../datos_navent_fiuba/fiuba_3_vistas.csv')\n",
    "postulaciones = pd.read_csv('../datos_navent_fiuba/fiuba_4_postulaciones.csv')\n",
    "avisos_online = pd.read_csv('../datos_navent_fiuba/fiuba_5_avisos_online.csv')\n",
    "avisos_detalle = pd.read_csv('../datos_navent_fiuba/fiuba_6_avisos_detalle.csv')"
   ]
  },
  {
   "cell_type": "code",
   "execution_count": null,
   "metadata": {},
   "outputs": [],
   "source": [
    "datos_postulantes = pd.merge(fiuba1, postulantes_genero, on='idpostulante')\n",
    "vistas=vistas.rename(index=str,columns={\"idAviso\": \"idaviso\", \"timestamp\": \"fechapostulacion\"} )\n",
    "postulaciones_y_vistas = postulaciones.append(vistas) #uno postulaciones con vistas para la estadistica\n",
    "postulaciones_con_datos_postulantes = pd.merge(postulaciones_y_vistas, datos_postulantes, on='idpostulante')\n",
    "datos_avisos_con_postulantes = pd.merge(postulaciones_con_datos_postulantes, avisos_detalle, on = 'idaviso',how='right')\n",
    "#datos_avisos_con_postulantes.sort_values(by='idaviso')"
   ]
  },
  {
   "cell_type": "code",
   "execution_count": null,
   "metadata": {},
   "outputs": [],
   "source": [
    "#Las empresas con mas postulaciones por publicacion\n",
    "empresas_postulaciones = datos_avisos_con_postulantes.groupby(['denominacion_empresa']).agg({'idpostulante':['count'], 'idaviso':['count']})\n",
    "empresas_postulaciones.reset_index(level=0, inplace=True)\n",
    "empresas_postulaciones=empresas_postulaciones.loc[empresas_postulaciones['idaviso']['count']>2295] #filtro los que tienen pocos avisos. El 2295 viene de redondear hacia arriba el 1% del valor del de mas avisos\n",
    "empresas_con_cantidad=empresas_postulaciones.assign(f = empresas_postulaciones[('idpostulante','count')] / empresas_postulaciones[('idaviso','count')]).sort_values(['f',('idaviso','count')], ascending=False)\n",
    "empresas_con_cantidad['f'] = empresas_con_cantidad['f'].apply(lambda x: round(x,4))\n",
    "empresas_con_cantidad=empresas_con_cantidad.rename({88:'A'})\n",
    "empresas_con_cantidad.columns=['denominacion_empresa','cantidad postulantes','cantidad avisos','Postulaciones por aviso']\n",
    "empresas_con_cantidad\n",
    "\n"
   ]
  },
  {
   "cell_type": "code",
   "execution_count": null,
   "metadata": {},
   "outputs": [],
   "source": [
    "ax = empresas_con_cantidad.groupby(['Postulaciones por aviso']).count()['denominacion_empresa'].plot(kind='line', rot = 90, figsize=(14,4), color='purple' ,fontsize=12, title='Cantidad de postulaciones por aviso',grid=True)\n",
    "\n",
    "f_promedio = empresas_con_cantidad['Postulaciones por aviso'].mean()\n",
    "ax.axvline(f_promedio, color='b', linestyle='--')"
   ]
  },
  {
   "cell_type": "code",
   "execution_count": null,
   "metadata": {},
   "outputs": [],
   "source": []
  }
 ],
 "metadata": {
  "kernelspec": {
   "display_name": "Python 3",
   "language": "python",
   "name": "python3"
  },
  "language_info": {
   "codemirror_mode": {
    "name": "ipython",
    "version": 3
   },
   "file_extension": ".py",
   "mimetype": "text/x-python",
   "name": "python",
   "nbconvert_exporter": "python",
   "pygments_lexer": "ipython3",
   "version": "3.6.4"
  }
 },
 "nbformat": 4,
 "nbformat_minor": 2
}
