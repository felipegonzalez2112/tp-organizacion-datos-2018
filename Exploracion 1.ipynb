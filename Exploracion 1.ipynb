{
 "cells": [
  {
   "cell_type": "markdown",
   "metadata": {},
   "source": [
    "# Análisis de pruebas\n",
    "Análisis básico para tener una idea de que tienen los datos"
   ]
  },
  {
   "cell_type": "code",
   "execution_count": 314,
   "metadata": {},
   "outputs": [],
   "source": [
    "import numpy as np \n",
    "import pandas as pd\n",
    "\n",
    "#Plots\n",
    "import matplotlib.pyplot as plt\n",
    "import seaborn as sns\n",
    "%matplotlib inline"
   ]
  },
  {
   "cell_type": "code",
   "execution_count": 315,
   "metadata": {},
   "outputs": [],
   "source": [
    "#Cargamos los dataframes con los CSVs de Navent\n",
    "\n",
    "nivel_educativo = pd.read_csv('../datos_navent_fiuba/fiuba_1_postulantes_educacion.csv')\n",
    "nacimiento_genero = pd.read_csv('../datos_navent_fiuba/fiuba_2_postulantes_genero_y_edad.csv')\n",
    "vistas = pd.read_csv('../datos_navent_fiuba/fiuba_3_vistas.csv')\n",
    "postulaciones = pd.read_csv('../datos_navent_fiuba/fiuba_4_postulaciones.csv')\n",
    "avisos_online = pd.read_csv('../datos_navent_fiuba/fiuba_5_avisos_online.csv')\n",
    "avisos_detalle = pd.read_csv('../datos_navent_fiuba/fiuba_6_avisos_detalle.csv')"
   ]
  },
  {
   "cell_type": "markdown",
   "metadata": {},
   "source": [
    "# Empezamos mirando el nivel educativo\n",
    "Empezar a ver cómo son los datos antes de realizar análisis"
   ]
  },
  {
   "cell_type": "code",
   "execution_count": 316,
   "metadata": {},
   "outputs": [
    {
     "data": {
      "text/html": [
       "<div>\n",
       "<style scoped>\n",
       "    .dataframe tbody tr th:only-of-type {\n",
       "        vertical-align: middle;\n",
       "    }\n",
       "\n",
       "    .dataframe tbody tr th {\n",
       "        vertical-align: top;\n",
       "    }\n",
       "\n",
       "    .dataframe thead th {\n",
       "        text-align: right;\n",
       "    }\n",
       "</style>\n",
       "<table border=\"1\" class=\"dataframe\">\n",
       "  <thead>\n",
       "    <tr style=\"text-align: right;\">\n",
       "      <th></th>\n",
       "      <th>idpostulante</th>\n",
       "      <th>nombre</th>\n",
       "      <th>estado</th>\n",
       "    </tr>\n",
       "  </thead>\n",
       "  <tbody>\n",
       "    <tr>\n",
       "      <th>0</th>\n",
       "      <td>NdJl</td>\n",
       "      <td>Posgrado</td>\n",
       "      <td>En Curso</td>\n",
       "    </tr>\n",
       "    <tr>\n",
       "      <th>1</th>\n",
       "      <td>8BkL</td>\n",
       "      <td>Universitario</td>\n",
       "      <td>En Curso</td>\n",
       "    </tr>\n",
       "    <tr>\n",
       "      <th>2</th>\n",
       "      <td>1d2B</td>\n",
       "      <td>Universitario</td>\n",
       "      <td>En Curso</td>\n",
       "    </tr>\n",
       "    <tr>\n",
       "      <th>3</th>\n",
       "      <td>NPBx</td>\n",
       "      <td>Universitario</td>\n",
       "      <td>En Curso</td>\n",
       "    </tr>\n",
       "    <tr>\n",
       "      <th>4</th>\n",
       "      <td>NPBx</td>\n",
       "      <td>Master</td>\n",
       "      <td>En Curso</td>\n",
       "    </tr>\n",
       "  </tbody>\n",
       "</table>\n",
       "</div>"
      ],
      "text/plain": [
       "  idpostulante         nombre    estado\n",
       "0         NdJl       Posgrado  En Curso\n",
       "1         8BkL  Universitario  En Curso\n",
       "2         1d2B  Universitario  En Curso\n",
       "3         NPBx  Universitario  En Curso\n",
       "4         NPBx         Master  En Curso"
      ]
     },
     "execution_count": 316,
     "metadata": {},
     "output_type": "execute_result"
    }
   ],
   "source": [
    "nivel_educativo.head()"
   ]
  },
  {
   "cell_type": "code",
   "execution_count": 317,
   "metadata": {},
   "outputs": [
    {
     "name": "stdout",
     "output_type": "stream",
     "text": [
      "<class 'pandas.core.frame.DataFrame'>\n",
      "RangeIndex: 298231 entries, 0 to 298230\n",
      "Data columns (total 3 columns):\n",
      "idpostulante    298231 non-null object\n",
      "nombre          298231 non-null object\n",
      "estado          298231 non-null object\n",
      "dtypes: object(3)\n",
      "memory usage: 6.8+ MB\n"
     ]
    }
   ],
   "source": [
    "nivel_educativo.info()"
   ]
  },
  {
   "cell_type": "code",
   "execution_count": 318,
   "metadata": {},
   "outputs": [
    {
     "data": {
      "text/plain": [
       "(298231, 3)"
      ]
     },
     "execution_count": 318,
     "metadata": {},
     "output_type": "execute_result"
    }
   ],
   "source": [
    "nivel_educativo.shape"
   ]
  },
  {
   "cell_type": "code",
   "execution_count": 319,
   "metadata": {},
   "outputs": [
    {
     "data": {
      "text/plain": [
       "YlMLGD     9\n",
       "54MQGz     8\n",
       "EZD29      8\n",
       "Ez0LBk9    7\n",
       "xk9VKeV    7\n",
       "aa1KkD     7\n",
       "8keBRO     7\n",
       "kPNrbZV    7\n",
       "55R18N     7\n",
       "8M21pBL    7\n",
       "YNVjEr     7\n",
       "12eO0B     7\n",
       "1BodWQ     7\n",
       "zv8vOxE    7\n",
       "8KOd6x     7\n",
       "Ee2ok0     7\n",
       "9692125    7\n",
       "Ejer02     6\n",
       "owarwYZ    6\n",
       "NKpblJ     6\n",
       "owz49Zr    6\n",
       "0zNrNQ8    6\n",
       "5JZzxZ     6\n",
       "mzbe3W3    6\n",
       "0zdoVvY    6\n",
       "ekmL6x8    6\n",
       "5EoV3M     6\n",
       "bOARLG0    6\n",
       "4rWkN5P    6\n",
       "3NkbZwr    6\n",
       "          ..\n",
       "vVjdWX1    1\n",
       "9690WYY    1\n",
       "96XAoXp    1\n",
       "qe6Jp5a    1\n",
       "bOJp1vb    1\n",
       "rmdAqOe    1\n",
       "wVoLq5e    1\n",
       "zvaaxOm    1\n",
       "zv45A2b    1\n",
       "6rPV6Mv    1\n",
       "2zL2jq0    1\n",
       "YQdprw     1\n",
       "KBrKYwY    1\n",
       "dY5z58q    1\n",
       "4repEq5    1\n",
       "RzM32qE    1\n",
       "PmG2Ljj    1\n",
       "Bm5v3dQ    1\n",
       "bOABLM2    1\n",
       "1QPD48b    1\n",
       "5ZX5JZ     1\n",
       "96XJb4P    1\n",
       "akj94Bq    1\n",
       "Ydr9oZ     1\n",
       "5WP8ov     1\n",
       "Y2w6Aq     1\n",
       "kP6eW9Q    1\n",
       "LNPMQDP    1\n",
       "Z4NMPz     1\n",
       "EzEWjo4    1\n",
       "Name: idpostulante, Length: 188752, dtype: int64"
      ]
     },
     "execution_count": 319,
     "metadata": {},
     "output_type": "execute_result"
    }
   ],
   "source": [
    "nivel_educativo['idpostulante'].value_counts()"
   ]
  },
  {
   "cell_type": "code",
   "execution_count": 320,
   "metadata": {},
   "outputs": [
    {
     "data": {
      "text/plain": [
       "Secundario           110256\n",
       "Universitario        104295\n",
       "Terciario/Técnico     47733\n",
       "Otro                  24748\n",
       "Posgrado               7387\n",
       "Master                 3598\n",
       "Doctorado               214\n",
       "Name: nombre, dtype: int64"
      ]
     },
     "execution_count": 320,
     "metadata": {},
     "output_type": "execute_result"
    }
   ],
   "source": [
    "nivel_educativo['nombre'].value_counts()"
   ]
  },
  {
   "cell_type": "code",
   "execution_count": 321,
   "metadata": {},
   "outputs": [
    {
     "data": {
      "text/plain": [
       "Graduado      194474\n",
       "En Curso       78531\n",
       "Abandonado     25226\n",
       "Name: estado, dtype: int64"
      ]
     },
     "execution_count": 321,
     "metadata": {},
     "output_type": "execute_result"
    }
   ],
   "source": [
    "nivel_educativo['estado'].value_counts()"
   ]
  },
  {
   "cell_type": "code",
   "execution_count": 322,
   "metadata": {},
   "outputs": [
    {
     "data": {
      "text/html": [
       "<div>\n",
       "<style scoped>\n",
       "    .dataframe tbody tr th:only-of-type {\n",
       "        vertical-align: middle;\n",
       "    }\n",
       "\n",
       "    .dataframe tbody tr th {\n",
       "        vertical-align: top;\n",
       "    }\n",
       "\n",
       "    .dataframe thead th {\n",
       "        text-align: right;\n",
       "    }\n",
       "</style>\n",
       "<table border=\"1\" class=\"dataframe\">\n",
       "  <thead>\n",
       "    <tr style=\"text-align: right;\">\n",
       "      <th></th>\n",
       "      <th>idpostulante</th>\n",
       "      <th>nombre</th>\n",
       "      <th>estado</th>\n",
       "    </tr>\n",
       "  </thead>\n",
       "  <tbody>\n",
       "    <tr>\n",
       "      <th>373</th>\n",
       "      <td>YlMLGD</td>\n",
       "      <td>Terciario/Técnico</td>\n",
       "      <td>En Curso</td>\n",
       "    </tr>\n",
       "    <tr>\n",
       "      <th>374</th>\n",
       "      <td>YlMLGD</td>\n",
       "      <td>Otro</td>\n",
       "      <td>En Curso</td>\n",
       "    </tr>\n",
       "    <tr>\n",
       "      <th>375</th>\n",
       "      <td>YlMLGD</td>\n",
       "      <td>Universitario</td>\n",
       "      <td>En Curso</td>\n",
       "    </tr>\n",
       "    <tr>\n",
       "      <th>2206</th>\n",
       "      <td>YlMLGD</td>\n",
       "      <td>Terciario/Técnico</td>\n",
       "      <td>Graduado</td>\n",
       "    </tr>\n",
       "    <tr>\n",
       "      <th>2207</th>\n",
       "      <td>YlMLGD</td>\n",
       "      <td>Universitario</td>\n",
       "      <td>Graduado</td>\n",
       "    </tr>\n",
       "    <tr>\n",
       "      <th>2208</th>\n",
       "      <td>YlMLGD</td>\n",
       "      <td>Otro</td>\n",
       "      <td>Graduado</td>\n",
       "    </tr>\n",
       "    <tr>\n",
       "      <th>2209</th>\n",
       "      <td>YlMLGD</td>\n",
       "      <td>Posgrado</td>\n",
       "      <td>Graduado</td>\n",
       "    </tr>\n",
       "    <tr>\n",
       "      <th>3659</th>\n",
       "      <td>YlMLGD</td>\n",
       "      <td>Universitario</td>\n",
       "      <td>Abandonado</td>\n",
       "    </tr>\n",
       "    <tr>\n",
       "      <th>3660</th>\n",
       "      <td>YlMLGD</td>\n",
       "      <td>Terciario/Técnico</td>\n",
       "      <td>Abandonado</td>\n",
       "    </tr>\n",
       "  </tbody>\n",
       "</table>\n",
       "</div>"
      ],
      "text/plain": [
       "     idpostulante             nombre      estado\n",
       "373        YlMLGD  Terciario/Técnico    En Curso\n",
       "374        YlMLGD               Otro    En Curso\n",
       "375        YlMLGD      Universitario    En Curso\n",
       "2206       YlMLGD  Terciario/Técnico    Graduado\n",
       "2207       YlMLGD      Universitario    Graduado\n",
       "2208       YlMLGD               Otro    Graduado\n",
       "2209       YlMLGD           Posgrado    Graduado\n",
       "3659       YlMLGD      Universitario  Abandonado\n",
       "3660       YlMLGD  Terciario/Técnico  Abandonado"
      ]
     },
     "execution_count": 322,
     "metadata": {},
     "output_type": "execute_result"
    }
   ],
   "source": [
    "nivel_educativo[nivel_educativo['idpostulante'] == 'YlMLGD']"
   ]
  },
  {
   "cell_type": "code",
   "execution_count": 323,
   "metadata": {},
   "outputs": [
    {
     "data": {
      "text/html": [
       "<div>\n",
       "<style scoped>\n",
       "    .dataframe tbody tr th:only-of-type {\n",
       "        vertical-align: middle;\n",
       "    }\n",
       "\n",
       "    .dataframe tbody tr th {\n",
       "        vertical-align: top;\n",
       "    }\n",
       "\n",
       "    .dataframe thead th {\n",
       "        text-align: right;\n",
       "    }\n",
       "</style>\n",
       "<table border=\"1\" class=\"dataframe\">\n",
       "  <thead>\n",
       "    <tr style=\"text-align: right;\">\n",
       "      <th></th>\n",
       "      <th>idpostulante</th>\n",
       "      <th>nombre</th>\n",
       "      <th>estado</th>\n",
       "    </tr>\n",
       "  </thead>\n",
       "  <tbody>\n",
       "    <tr>\n",
       "      <th>240125</th>\n",
       "      <td>96Xo6r5</td>\n",
       "      <td>Universitario</td>\n",
       "      <td>En Curso</td>\n",
       "    </tr>\n",
       "  </tbody>\n",
       "</table>\n",
       "</div>"
      ],
      "text/plain": [
       "       idpostulante         nombre    estado\n",
       "240125      96Xo6r5  Universitario  En Curso"
      ]
     },
     "execution_count": 323,
     "metadata": {},
     "output_type": "execute_result"
    }
   ],
   "source": [
    "nivel_educativo[nivel_educativo['idpostulante'] == '96Xo6r5']"
   ]
  },
  {
   "cell_type": "markdown",
   "metadata": {},
   "source": [
    "# Nacimiento y género"
   ]
  },
  {
   "cell_type": "code",
   "execution_count": 324,
   "metadata": {},
   "outputs": [
    {
     "data": {
      "text/html": [
       "<div>\n",
       "<style scoped>\n",
       "    .dataframe tbody tr th:only-of-type {\n",
       "        vertical-align: middle;\n",
       "    }\n",
       "\n",
       "    .dataframe tbody tr th {\n",
       "        vertical-align: top;\n",
       "    }\n",
       "\n",
       "    .dataframe thead th {\n",
       "        text-align: right;\n",
       "    }\n",
       "</style>\n",
       "<table border=\"1\" class=\"dataframe\">\n",
       "  <thead>\n",
       "    <tr style=\"text-align: right;\">\n",
       "      <th></th>\n",
       "      <th>idpostulante</th>\n",
       "      <th>fechanacimiento</th>\n",
       "      <th>sexo</th>\n",
       "    </tr>\n",
       "  </thead>\n",
       "  <tbody>\n",
       "    <tr>\n",
       "      <th>0</th>\n",
       "      <td>NM5M</td>\n",
       "      <td>1970-12-03</td>\n",
       "      <td>FEM</td>\n",
       "    </tr>\n",
       "    <tr>\n",
       "      <th>1</th>\n",
       "      <td>5awk</td>\n",
       "      <td>1962-12-04</td>\n",
       "      <td>FEM</td>\n",
       "    </tr>\n",
       "    <tr>\n",
       "      <th>2</th>\n",
       "      <td>ZaO5</td>\n",
       "      <td>1978-08-10</td>\n",
       "      <td>FEM</td>\n",
       "    </tr>\n",
       "    <tr>\n",
       "      <th>3</th>\n",
       "      <td>NdJl</td>\n",
       "      <td>1969-05-09</td>\n",
       "      <td>MASC</td>\n",
       "    </tr>\n",
       "    <tr>\n",
       "      <th>4</th>\n",
       "      <td>eo2p</td>\n",
       "      <td>1981-02-16</td>\n",
       "      <td>MASC</td>\n",
       "    </tr>\n",
       "  </tbody>\n",
       "</table>\n",
       "</div>"
      ],
      "text/plain": [
       "  idpostulante fechanacimiento  sexo\n",
       "0         NM5M      1970-12-03   FEM\n",
       "1         5awk      1962-12-04   FEM\n",
       "2         ZaO5      1978-08-10   FEM\n",
       "3         NdJl      1969-05-09  MASC\n",
       "4         eo2p      1981-02-16  MASC"
      ]
     },
     "execution_count": 324,
     "metadata": {},
     "output_type": "execute_result"
    }
   ],
   "source": [
    "nacimiento_genero.head()"
   ]
  },
  {
   "cell_type": "code",
   "execution_count": 325,
   "metadata": {},
   "outputs": [
    {
     "name": "stdout",
     "output_type": "stream",
     "text": [
      "<class 'pandas.core.frame.DataFrame'>\n",
      "RangeIndex: 200888 entries, 0 to 200887\n",
      "Data columns (total 3 columns):\n",
      "idpostulante       200888 non-null object\n",
      "fechanacimiento    196138 non-null object\n",
      "sexo               200888 non-null object\n",
      "dtypes: object(3)\n",
      "memory usage: 4.6+ MB\n"
     ]
    }
   ],
   "source": [
    "nacimiento_genero.info()"
   ]
  },
  {
   "cell_type": "code",
   "execution_count": 326,
   "metadata": {},
   "outputs": [
    {
     "data": {
      "text/plain": [
       "FEM           101981\n",
       "MASC           94339\n",
       "NO_DECLARA      4568\n",
       "Name: sexo, dtype: int64"
      ]
     },
     "execution_count": 326,
     "metadata": {},
     "output_type": "execute_result"
    }
   ],
   "source": [
    "nacimiento_genero['sexo'].value_counts()"
   ]
  },
  {
   "cell_type": "markdown",
   "metadata": {},
   "source": [
    "Los que no declaran, por qué no declaran? Al ver sus postulaciones pueden arrojar más luz"
   ]
  },
  {
   "cell_type": "markdown",
   "metadata": {},
   "source": [
    "# Vistas Online y Offline de anuncios"
   ]
  },
  {
   "cell_type": "code",
   "execution_count": 327,
   "metadata": {},
   "outputs": [
    {
     "data": {
      "text/html": [
       "<div>\n",
       "<style scoped>\n",
       "    .dataframe tbody tr th:only-of-type {\n",
       "        vertical-align: middle;\n",
       "    }\n",
       "\n",
       "    .dataframe tbody tr th {\n",
       "        vertical-align: top;\n",
       "    }\n",
       "\n",
       "    .dataframe thead th {\n",
       "        text-align: right;\n",
       "    }\n",
       "</style>\n",
       "<table border=\"1\" class=\"dataframe\">\n",
       "  <thead>\n",
       "    <tr style=\"text-align: right;\">\n",
       "      <th></th>\n",
       "      <th>idAviso</th>\n",
       "      <th>timestamp</th>\n",
       "      <th>idpostulante</th>\n",
       "    </tr>\n",
       "  </thead>\n",
       "  <tbody>\n",
       "    <tr>\n",
       "      <th>0</th>\n",
       "      <td>1111780242</td>\n",
       "      <td>2018-02-23T13:38:13.187-0500</td>\n",
       "      <td>YjVJQ6Z</td>\n",
       "    </tr>\n",
       "    <tr>\n",
       "      <th>1</th>\n",
       "      <td>1112263876</td>\n",
       "      <td>2018-02-23T13:38:14.296-0500</td>\n",
       "      <td>BmVpYoR</td>\n",
       "    </tr>\n",
       "    <tr>\n",
       "      <th>2</th>\n",
       "      <td>1112327963</td>\n",
       "      <td>2018-02-23T13:38:14.329-0500</td>\n",
       "      <td>wVkBzZd</td>\n",
       "    </tr>\n",
       "    <tr>\n",
       "      <th>3</th>\n",
       "      <td>1112318643</td>\n",
       "      <td>2018-02-23T13:38:17.921-0500</td>\n",
       "      <td>OqmP9pv</td>\n",
       "    </tr>\n",
       "    <tr>\n",
       "      <th>4</th>\n",
       "      <td>1111903673</td>\n",
       "      <td>2018-02-23T13:38:18.973-0500</td>\n",
       "      <td>DrpbXDP</td>\n",
       "    </tr>\n",
       "  </tbody>\n",
       "</table>\n",
       "</div>"
      ],
      "text/plain": [
       "      idAviso                     timestamp idpostulante\n",
       "0  1111780242  2018-02-23T13:38:13.187-0500      YjVJQ6Z\n",
       "1  1112263876  2018-02-23T13:38:14.296-0500      BmVpYoR\n",
       "2  1112327963  2018-02-23T13:38:14.329-0500      wVkBzZd\n",
       "3  1112318643  2018-02-23T13:38:17.921-0500      OqmP9pv\n",
       "4  1111903673  2018-02-23T13:38:18.973-0500      DrpbXDP"
      ]
     },
     "execution_count": 327,
     "metadata": {},
     "output_type": "execute_result"
    }
   ],
   "source": [
    "vistas.head()"
   ]
  },
  {
   "cell_type": "code",
   "execution_count": 328,
   "metadata": {},
   "outputs": [
    {
     "name": "stdout",
     "output_type": "stream",
     "text": [
      "<class 'pandas.core.frame.DataFrame'>\n",
      "RangeIndex: 961897 entries, 0 to 961896\n",
      "Data columns (total 3 columns):\n",
      "idAviso         961897 non-null int64\n",
      "timestamp       961897 non-null object\n",
      "idpostulante    961897 non-null object\n",
      "dtypes: int64(1), object(2)\n",
      "memory usage: 22.0+ MB\n"
     ]
    }
   ],
   "source": [
    "vistas.info()"
   ]
  },
  {
   "cell_type": "code",
   "execution_count": 329,
   "metadata": {},
   "outputs": [
    {
     "data": {
      "text/plain": [
       "dYJV5K2    595\n",
       "8MaQjP3    556\n",
       "dYoRZw0    521\n",
       "QNrKkvl    451\n",
       "DrXRjZK    414\n",
       "Name: idpostulante, dtype: int64"
      ]
     },
     "execution_count": 329,
     "metadata": {},
     "output_type": "execute_result"
    }
   ],
   "source": [
    "vistas['idpostulante'].value_counts().head()"
   ]
  },
  {
   "cell_type": "code",
   "execution_count": 330,
   "metadata": {},
   "outputs": [
    {
     "data": {
      "text/plain": [
       "am46kD     1\n",
       "jkj3KmQ    1\n",
       "emVe2j     1\n",
       "ZDr92QY    1\n",
       "4rNlaW5    1\n",
       "Name: idpostulante, dtype: int64"
      ]
     },
     "execution_count": 330,
     "metadata": {},
     "output_type": "execute_result"
    }
   ],
   "source": [
    "vistas['idpostulante'].value_counts().tail()"
   ]
  },
  {
   "cell_type": "markdown",
   "metadata": {},
   "source": [
    "De acá de alguna manera se puede indentificar los usuarios activos de los que no"
   ]
  },
  {
   "cell_type": "markdown",
   "metadata": {},
   "source": [
    "## Sobre el formato del timestamp\n",
    "Tenemos fecha, hora y timezone"
   ]
  },
  {
   "cell_type": "markdown",
   "metadata": {},
   "source": [
    "# Postulaciones hasta el 1ro de marzo 2018"
   ]
  },
  {
   "cell_type": "code",
   "execution_count": 331,
   "metadata": {},
   "outputs": [
    {
     "data": {
      "text/html": [
       "<div>\n",
       "<style scoped>\n",
       "    .dataframe tbody tr th:only-of-type {\n",
       "        vertical-align: middle;\n",
       "    }\n",
       "\n",
       "    .dataframe tbody tr th {\n",
       "        vertical-align: top;\n",
       "    }\n",
       "\n",
       "    .dataframe thead th {\n",
       "        text-align: right;\n",
       "    }\n",
       "</style>\n",
       "<table border=\"1\" class=\"dataframe\">\n",
       "  <thead>\n",
       "    <tr style=\"text-align: right;\">\n",
       "      <th></th>\n",
       "      <th>idaviso</th>\n",
       "      <th>idpostulante</th>\n",
       "      <th>fechapostulacion</th>\n",
       "    </tr>\n",
       "  </thead>\n",
       "  <tbody>\n",
       "    <tr>\n",
       "      <th>0</th>\n",
       "      <td>1112257047</td>\n",
       "      <td>NM5M</td>\n",
       "      <td>2018-01-15 16:22:34</td>\n",
       "    </tr>\n",
       "    <tr>\n",
       "      <th>1</th>\n",
       "      <td>1111920714</td>\n",
       "      <td>NM5M</td>\n",
       "      <td>2018-02-06 09:04:50</td>\n",
       "    </tr>\n",
       "    <tr>\n",
       "      <th>2</th>\n",
       "      <td>1112346945</td>\n",
       "      <td>NM5M</td>\n",
       "      <td>2018-02-22 09:04:47</td>\n",
       "    </tr>\n",
       "    <tr>\n",
       "      <th>3</th>\n",
       "      <td>1112345547</td>\n",
       "      <td>NM5M</td>\n",
       "      <td>2018-02-22 09:04:59</td>\n",
       "    </tr>\n",
       "    <tr>\n",
       "      <th>4</th>\n",
       "      <td>1112237522</td>\n",
       "      <td>5awk</td>\n",
       "      <td>2018-01-25 18:55:03</td>\n",
       "    </tr>\n",
       "  </tbody>\n",
       "</table>\n",
       "</div>"
      ],
      "text/plain": [
       "      idaviso idpostulante     fechapostulacion\n",
       "0  1112257047         NM5M  2018-01-15 16:22:34\n",
       "1  1111920714         NM5M  2018-02-06 09:04:50\n",
       "2  1112346945         NM5M  2018-02-22 09:04:47\n",
       "3  1112345547         NM5M  2018-02-22 09:04:59\n",
       "4  1112237522         5awk  2018-01-25 18:55:03"
      ]
     },
     "execution_count": 331,
     "metadata": {},
     "output_type": "execute_result"
    }
   ],
   "source": [
    "postulaciones.head()"
   ]
  },
  {
   "cell_type": "code",
   "execution_count": 332,
   "metadata": {},
   "outputs": [
    {
     "name": "stdout",
     "output_type": "stream",
     "text": [
      "<class 'pandas.core.frame.DataFrame'>\n",
      "RangeIndex: 3401623 entries, 0 to 3401622\n",
      "Data columns (total 3 columns):\n",
      "idaviso             int64\n",
      "idpostulante        object\n",
      "fechapostulacion    object\n",
      "dtypes: int64(1), object(2)\n",
      "memory usage: 77.9+ MB\n"
     ]
    }
   ],
   "source": [
    "postulaciones.info()"
   ]
  },
  {
   "cell_type": "code",
   "execution_count": 333,
   "metadata": {},
   "outputs": [
    {
     "data": {
      "text/plain": [
       "axmjOE     3166\n",
       "6rQdqjl    1773\n",
       "5Mwjak     1485\n",
       "8MaQjP3    1414\n",
       "4rNzLje    1213\n",
       "KBzm0ZX    1176\n",
       "NzrpkBD    1099\n",
       "4rPx4jR    1059\n",
       "JBmav1r    1030\n",
       "jk5aQ1b    1013\n",
       "5mraqEZ     998\n",
       "ZQZJJb      978\n",
       "av69dW      963\n",
       "aWY5D5      947\n",
       "ow2oqjW     927\n",
       "56XJzM      909\n",
       "vVjZ16P     859\n",
       "vVkAd5j     854\n",
       "akDVNzJ     810\n",
       "5EXd4w      809\n",
       "qevreVR     805\n",
       "ZD2081P     774\n",
       "wVXQL3w     732\n",
       "Oqre00r     717\n",
       "5354Mw      714\n",
       "969aM4v     697\n",
       "VNEo98l     692\n",
       "PmGBW6Y     685\n",
       "dYJV5K2     684\n",
       "wVY9aQL     680\n",
       "           ... \n",
       "pzNO4ar       1\n",
       "3N25pDP       1\n",
       "dYjzAN2       1\n",
       "8MBo8X3       1\n",
       "Rz9PpxZ       1\n",
       "3NPOMlJ       1\n",
       "pzeoDEb       1\n",
       "YjlWmRP       1\n",
       "MVO4jMv       1\n",
       "eYvrMB        1\n",
       "akDkY0J       1\n",
       "erXYxE        1\n",
       "YjQJawY       1\n",
       "lDLAG1R       1\n",
       "GNZvWN9       1\n",
       "mz5qjGE       1\n",
       "A3DKZKx       1\n",
       "vVklPao       1\n",
       "EzZdmLN       1\n",
       "bOVzbq4       1\n",
       "ak42aNZ       1\n",
       "RzN2azo       1\n",
       "NWjdaL        1\n",
       "8M23ral       1\n",
       "kPXAqkJ       1\n",
       "6rBZGe4       1\n",
       "owa513L       1\n",
       "0zrazQd       1\n",
       "6O0eoO        1\n",
       "YBrlGY        1\n",
       "Name: idpostulante, Length: 200888, dtype: int64"
      ]
     },
     "execution_count": 333,
     "metadata": {},
     "output_type": "execute_result"
    }
   ],
   "source": [
    "postulaciones['idpostulante'].value_counts()"
   ]
  },
  {
   "cell_type": "markdown",
   "metadata": {},
   "source": [
    "Hay que mirar mejor esto. Realmente se postularon tanto estos primeros? Son bots?"
   ]
  },
  {
   "cell_type": "code",
   "execution_count": 334,
   "metadata": {},
   "outputs": [
    {
     "data": {
      "text/plain": [
       "1112033906    9932\n",
       "1112334791    9787\n",
       "1112204682    9244\n",
       "1112094756    8763\n",
       "1112345900    8304\n",
       "1112319451    8025\n",
       "1112298966    7637\n",
       "1112262494    7541\n",
       "1112305277    7153\n",
       "1112296264    6968\n",
       "1112334788    6797\n",
       "1112280937    6187\n",
       "1112260584    6113\n",
       "1112316288    5932\n",
       "1112344973    5924\n",
       "1111753681    5887\n",
       "1112120281    5717\n",
       "1112349037    5665\n",
       "1112196813    5602\n",
       "1112206678    5432\n",
       "1111644947    5396\n",
       "1112299531    5321\n",
       "1112307266    5298\n",
       "1112337868    5252\n",
       "1112260111    5172\n",
       "1112327106    5102\n",
       "1112347329    5091\n",
       "1112293625    5062\n",
       "1112345051    5053\n",
       "1112303105    4894\n",
       "              ... \n",
       "1112226438       1\n",
       "1112204863       1\n",
       "1112202259       1\n",
       "1112206414       1\n",
       "1112203874       1\n",
       "1112209323       1\n",
       "1112206408       1\n",
       "1112208450       1\n",
       "1112308142       1\n",
       "1112202360       1\n",
       "1111439028       1\n",
       "1112209328       1\n",
       "1112218658       1\n",
       "1112202269       1\n",
       "1112209335       1\n",
       "1112308112       1\n",
       "1112226283       1\n",
       "1112361607       1\n",
       "1112205943       1\n",
       "1112242513       1\n",
       "1112221244       1\n",
       "1112361980       1\n",
       "1112211944       1\n",
       "1111378594       1\n",
       "1112207996       1\n",
       "1112202274       1\n",
       "1112204325       1\n",
       "1112203735       1\n",
       "1112206371       1\n",
       "1112202245       1\n",
       "Name: idaviso, Length: 12692, dtype: int64"
      ]
     },
     "execution_count": 334,
     "metadata": {},
     "output_type": "execute_result"
    }
   ],
   "source": [
    "postulaciones['idaviso'].value_counts()"
   ]
  },
  {
   "cell_type": "markdown",
   "metadata": {},
   "source": [
    "## Ver rango de fechas\n",
    "En todos los casos ver de pasar los formatos de fecha para determinar el rango "
   ]
  },
  {
   "cell_type": "markdown",
   "metadata": {},
   "source": [
    "# Avisos online al 8 de marzo de 2018"
   ]
  },
  {
   "cell_type": "code",
   "execution_count": 335,
   "metadata": {},
   "outputs": [
    {
     "data": {
      "text/html": [
       "<div>\n",
       "<style scoped>\n",
       "    .dataframe tbody tr th:only-of-type {\n",
       "        vertical-align: middle;\n",
       "    }\n",
       "\n",
       "    .dataframe tbody tr th {\n",
       "        vertical-align: top;\n",
       "    }\n",
       "\n",
       "    .dataframe thead th {\n",
       "        text-align: right;\n",
       "    }\n",
       "</style>\n",
       "<table border=\"1\" class=\"dataframe\">\n",
       "  <thead>\n",
       "    <tr style=\"text-align: right;\">\n",
       "      <th></th>\n",
       "      <th>idaviso</th>\n",
       "    </tr>\n",
       "  </thead>\n",
       "  <tbody>\n",
       "    <tr>\n",
       "      <th>0</th>\n",
       "      <td>1112355872</td>\n",
       "    </tr>\n",
       "    <tr>\n",
       "      <th>1</th>\n",
       "      <td>1112335374</td>\n",
       "    </tr>\n",
       "    <tr>\n",
       "      <th>2</th>\n",
       "      <td>1112374842</td>\n",
       "    </tr>\n",
       "    <tr>\n",
       "      <th>3</th>\n",
       "      <td>1111984070</td>\n",
       "    </tr>\n",
       "    <tr>\n",
       "      <th>4</th>\n",
       "      <td>1111822480</td>\n",
       "    </tr>\n",
       "  </tbody>\n",
       "</table>\n",
       "</div>"
      ],
      "text/plain": [
       "      idaviso\n",
       "0  1112355872\n",
       "1  1112335374\n",
       "2  1112374842\n",
       "3  1111984070\n",
       "4  1111822480"
      ]
     },
     "execution_count": 335,
     "metadata": {},
     "output_type": "execute_result"
    }
   ],
   "source": [
    "avisos_online.head()"
   ]
  },
  {
   "cell_type": "code",
   "execution_count": 336,
   "metadata": {},
   "outputs": [
    {
     "name": "stdout",
     "output_type": "stream",
     "text": [
      "<class 'pandas.core.frame.DataFrame'>\n",
      "RangeIndex: 5028 entries, 0 to 5027\n",
      "Data columns (total 1 columns):\n",
      "idaviso    5028 non-null int64\n",
      "dtypes: int64(1)\n",
      "memory usage: 39.4 KB\n"
     ]
    }
   ],
   "source": [
    "avisos_online.info()"
   ]
  },
  {
   "cell_type": "markdown",
   "metadata": {},
   "source": [
    "# Detalle de avisos vistos y postulados tanto offline como online"
   ]
  },
  {
   "cell_type": "code",
   "execution_count": 337,
   "metadata": {},
   "outputs": [
    {
     "data": {
      "text/html": [
       "<div>\n",
       "<style scoped>\n",
       "    .dataframe tbody tr th:only-of-type {\n",
       "        vertical-align: middle;\n",
       "    }\n",
       "\n",
       "    .dataframe tbody tr th {\n",
       "        vertical-align: top;\n",
       "    }\n",
       "\n",
       "    .dataframe thead th {\n",
       "        text-align: right;\n",
       "    }\n",
       "</style>\n",
       "<table border=\"1\" class=\"dataframe\">\n",
       "  <thead>\n",
       "    <tr style=\"text-align: right;\">\n",
       "      <th></th>\n",
       "      <th>idaviso</th>\n",
       "      <th>idpais</th>\n",
       "      <th>titulo</th>\n",
       "      <th>descripcion</th>\n",
       "      <th>nombre_zona</th>\n",
       "      <th>ciudad</th>\n",
       "      <th>mapacalle</th>\n",
       "      <th>tipo_de_trabajo</th>\n",
       "      <th>nivel_laboral</th>\n",
       "      <th>nombre_area</th>\n",
       "      <th>denominacion_empresa</th>\n",
       "    </tr>\n",
       "  </thead>\n",
       "  <tbody>\n",
       "    <tr>\n",
       "      <th>0</th>\n",
       "      <td>8725750</td>\n",
       "      <td>1</td>\n",
       "      <td>VENDEDOR/A PROVINCIA DE SANTA FE</td>\n",
       "      <td>&lt;p&gt;&lt;strong&gt;&lt;strong&gt;Empresa:&lt;/strong&gt;&lt;/strong&gt; ...</td>\n",
       "      <td>Gran Buenos Aires</td>\n",
       "      <td>NaN</td>\n",
       "      <td>NaN</td>\n",
       "      <td>Full-time</td>\n",
       "      <td>Senior / Semi-Senior</td>\n",
       "      <td>Comercial</td>\n",
       "      <td>VENTOR</td>\n",
       "    </tr>\n",
       "    <tr>\n",
       "      <th>1</th>\n",
       "      <td>17903700</td>\n",
       "      <td>1</td>\n",
       "      <td>Enfermeras</td>\n",
       "      <td>&lt;p&gt;Solicitamos para importante cadena de farma...</td>\n",
       "      <td>Gran Buenos Aires</td>\n",
       "      <td>NaN</td>\n",
       "      <td>NaN</td>\n",
       "      <td>Full-time</td>\n",
       "      <td>Senior / Semi-Senior</td>\n",
       "      <td>Salud</td>\n",
       "      <td>Farmacias Central Oeste</td>\n",
       "    </tr>\n",
       "    <tr>\n",
       "      <th>2</th>\n",
       "      <td>1000150677</td>\n",
       "      <td>1</td>\n",
       "      <td>Chofer de taxi</td>\n",
       "      <td>&lt;p&gt;TE GUSTA MANEJAR? QUERES GANAR PLATA HACIEN...</td>\n",
       "      <td>Capital Federal</td>\n",
       "      <td>NaN</td>\n",
       "      <td>Empedrado 2336</td>\n",
       "      <td>Full-time</td>\n",
       "      <td>Senior / Semi-Senior</td>\n",
       "      <td>Transporte</td>\n",
       "      <td>FAMITAX SRL</td>\n",
       "    </tr>\n",
       "    <tr>\n",
       "      <th>3</th>\n",
       "      <td>1000610287</td>\n",
       "      <td>1</td>\n",
       "      <td>CHOFER DE CAMIONETA BAHIA BLANCA - PUNTA ALTA</td>\n",
       "      <td>&lt;p&gt;&lt;strong&gt;Somos una empresa multinacional que...</td>\n",
       "      <td>Gran Buenos Aires</td>\n",
       "      <td>NaN</td>\n",
       "      <td>NaN</td>\n",
       "      <td>Full-time</td>\n",
       "      <td>Senior / Semi-Senior</td>\n",
       "      <td>Transporte</td>\n",
       "      <td>Wurth Argentina S.A</td>\n",
       "    </tr>\n",
       "    <tr>\n",
       "      <th>4</th>\n",
       "      <td>1000872556</td>\n",
       "      <td>1</td>\n",
       "      <td>Operarios de Planta - Rubro Electrodomésticos</td>\n",
       "      <td>&lt;p&gt;&lt;strong&gt;OPERARIOS DE PLANTA&lt;/strong&gt;&lt;/p&gt;&lt;p&gt;...</td>\n",
       "      <td>Gran Buenos Aires</td>\n",
       "      <td>NaN</td>\n",
       "      <td>NaN</td>\n",
       "      <td>Full-time</td>\n",
       "      <td>Senior / Semi-Senior</td>\n",
       "      <td>Producción</td>\n",
       "      <td>ELECTRO OUTLET SRL</td>\n",
       "    </tr>\n",
       "  </tbody>\n",
       "</table>\n",
       "</div>"
      ],
      "text/plain": [
       "      idaviso  idpais                                         titulo  \\\n",
       "0     8725750       1               VENDEDOR/A PROVINCIA DE SANTA FE   \n",
       "1    17903700       1                                     Enfermeras   \n",
       "2  1000150677       1                                 Chofer de taxi   \n",
       "3  1000610287       1  CHOFER DE CAMIONETA BAHIA BLANCA - PUNTA ALTA   \n",
       "4  1000872556       1  Operarios de Planta - Rubro Electrodomésticos   \n",
       "\n",
       "                                         descripcion        nombre_zona  \\\n",
       "0  <p><strong><strong>Empresa:</strong></strong> ...  Gran Buenos Aires   \n",
       "1  <p>Solicitamos para importante cadena de farma...  Gran Buenos Aires   \n",
       "2  <p>TE GUSTA MANEJAR? QUERES GANAR PLATA HACIEN...    Capital Federal   \n",
       "3  <p><strong>Somos una empresa multinacional que...  Gran Buenos Aires   \n",
       "4  <p><strong>OPERARIOS DE PLANTA</strong></p><p>...  Gran Buenos Aires   \n",
       "\n",
       "  ciudad       mapacalle tipo_de_trabajo         nivel_laboral nombre_area  \\\n",
       "0    NaN             NaN       Full-time  Senior / Semi-Senior   Comercial   \n",
       "1    NaN             NaN       Full-time  Senior / Semi-Senior       Salud   \n",
       "2    NaN  Empedrado 2336       Full-time  Senior / Semi-Senior  Transporte   \n",
       "3    NaN             NaN       Full-time  Senior / Semi-Senior  Transporte   \n",
       "4    NaN             NaN       Full-time  Senior / Semi-Senior  Producción   \n",
       "\n",
       "      denominacion_empresa  \n",
       "0                   VENTOR  \n",
       "1  Farmacias Central Oeste  \n",
       "2              FAMITAX SRL  \n",
       "3      Wurth Argentina S.A  \n",
       "4       ELECTRO OUTLET SRL  "
      ]
     },
     "execution_count": 337,
     "metadata": {},
     "output_type": "execute_result"
    }
   ],
   "source": [
    "avisos_detalle.head()"
   ]
  },
  {
   "cell_type": "code",
   "execution_count": 338,
   "metadata": {},
   "outputs": [
    {
     "name": "stdout",
     "output_type": "stream",
     "text": [
      "<class 'pandas.core.frame.DataFrame'>\n",
      "RangeIndex: 13534 entries, 0 to 13533\n",
      "Data columns (total 11 columns):\n",
      "idaviso                 13534 non-null int64\n",
      "idpais                  13534 non-null int64\n",
      "titulo                  13534 non-null object\n",
      "descripcion             13534 non-null object\n",
      "nombre_zona             13534 non-null object\n",
      "ciudad                  47 non-null object\n",
      "mapacalle               872 non-null object\n",
      "tipo_de_trabajo         13534 non-null object\n",
      "nivel_laboral           13534 non-null object\n",
      "nombre_area             13534 non-null object\n",
      "denominacion_empresa    13529 non-null object\n",
      "dtypes: int64(2), object(9)\n",
      "memory usage: 1.1+ MB\n"
     ]
    }
   ],
   "source": [
    "avisos_detalle.info()"
   ]
  },
  {
   "cell_type": "markdown",
   "metadata": {},
   "source": [
    "# Observaciones\n",
    "Vemos que para ciudad y mapacalle hay muchos valores no nulos"
   ]
  },
  {
   "cell_type": "code",
   "execution_count": 339,
   "metadata": {},
   "outputs": [
    {
     "data": {
      "text/plain": [
       "1    13534\n",
       "Name: idpais, dtype: int64"
      ]
     },
     "execution_count": 339,
     "metadata": {},
     "output_type": "execute_result"
    }
   ],
   "source": [
    "avisos_detalle['idpais'].value_counts()"
   ]
  },
  {
   "cell_type": "markdown",
   "metadata": {},
   "source": [
    "Como dijeron un buenos aires, un solo pais."
   ]
  },
  {
   "cell_type": "code",
   "execution_count": 340,
   "metadata": {},
   "outputs": [
    {
     "data": {
      "text/plain": [
       "Analistas de Testing Ssr/Sr con Automatización // MENDOZA     22\n",
       "Desarrolladores JAVA SOA / JBOSS RED HAT // Zona Recoleta     21\n",
       "Analista de Testing manual Ssr. // Zona Recoleta CABA         20\n",
       "Analista de inteligencia comercial                            20\n",
       "Desarrolladores .NET C# nivel Jr. / de 6 a 18 meses de exp    19\n",
       "Name: titulo, dtype: int64"
      ]
     },
     "execution_count": 340,
     "metadata": {},
     "output_type": "execute_result"
    }
   ],
   "source": [
    "avisos_detalle['titulo'].value_counts().head()"
   ]
  },
  {
   "cell_type": "markdown",
   "metadata": {},
   "source": [
    "Vemos que en título suelen agregar algún comentario relativo a la zona, la experiencia, etc. Supongo que para el que no quiere leer todo"
   ]
  },
  {
   "cell_type": "code",
   "execution_count": 341,
   "metadata": {},
   "outputs": [
    {
     "data": {
      "text/plain": [
       "0    <p><strong><strong>Empresa:</strong></strong> ...\n",
       "1    <p>Solicitamos para importante cadena de farma...\n",
       "2    <p>TE GUSTA MANEJAR? QUERES GANAR PLATA HACIEN...\n",
       "3    <p><strong>Somos una empresa multinacional que...\n",
       "4    <p><strong>OPERARIOS DE PLANTA</strong></p><p>...\n",
       "Name: descripcion, dtype: object"
      ]
     },
     "execution_count": 341,
     "metadata": {},
     "output_type": "execute_result"
    }
   ],
   "source": [
    "avisos_detalle['descripcion'].head()"
   ]
  },
  {
   "cell_type": "code",
   "execution_count": 342,
   "metadata": {},
   "outputs": [
    {
     "data": {
      "text/plain": [
       "13529    <p>UNOMOTOS Concesionaria líder en el rubro de...\n",
       "13530    <p><strong>RECONOCIDA EMPRESA DE MONTAJES INDU...\n",
       "13531    <p>BNP Paribas Investment Partners, importante...\n",
       "13532    <p>Somos un joven grupo gastronómico, que se e...\n",
       "13533    <p>Importante empresa de servicios para obras ...\n",
       "Name: descripcion, dtype: object"
      ]
     },
     "execution_count": 342,
     "metadata": {},
     "output_type": "execute_result"
    }
   ],
   "source": [
    "avisos_detalle['descripcion'].tail()"
   ]
  },
  {
   "cell_type": "markdown",
   "metadata": {},
   "source": [
    "# Obs:\n",
    "El campo contiene framgento de html o un lenguaje similar de markup"
   ]
  },
  {
   "cell_type": "code",
   "execution_count": 343,
   "metadata": {},
   "outputs": [
    {
     "data": {
      "text/plain": [
       "Buenos Aires                14\n",
       "Argentina                   13\n",
       "CABA                         3\n",
       "Capital Federal              2\n",
       "San Isidro                   2\n",
       "Microcentro                  1\n",
       "República Argentina          1\n",
       "Vicente Lopez                1\n",
       "Parque Patricios             1\n",
       "Mendoza                      1\n",
       "caba                         1\n",
       "Tortuguitas                  1\n",
       "Santa Rosa                   1\n",
       "Zárate, Campana, Escobar     1\n",
       "paternal                     1\n",
       "La Plata                     1\n",
       "Barracas                     1\n",
       "Buenos Aires Province        1\n",
       "Name: ciudad, dtype: int64"
      ]
     },
     "execution_count": 343,
     "metadata": {},
     "output_type": "execute_result"
    }
   ],
   "source": [
    "avisos_detalle['ciudad'].value_counts()"
   ]
  },
  {
   "cell_type": "markdown",
   "metadata": {},
   "source": [
    "# Obs:\n",
    "Muy pocos valores agregados"
   ]
  },
  {
   "cell_type": "code",
   "execution_count": 344,
   "metadata": {},
   "outputs": [
    {
     "data": {
      "text/plain": [
       "SARMIENTO 1937                                                            43\n",
       "Microcentro                                                               30\n",
       "Buenos Aires                                                              24\n",
       "Palermo                                                                   23\n",
       "Barracas                                                                  18\n",
       "Puerto Madero                                                             15\n",
       "Belgrano                                                                  14\n",
       "Reconquista 865                                                           13\n",
       "retiro                                                                    12\n",
       "Parque Patricios                                                          10\n",
       "Recoleta                                                                  10\n",
       "saavedra                                                                   8\n",
       "nuñez                                                                      8\n",
       "Peron 955                                                                  7\n",
       "Mataderos                                                                  6\n",
       "Pasaje Aguado 628                                                          6\n",
       "Monserrat                                                                  6\n",
       "San Telmo                                                                  6\n",
       "25 de Mayo 457 7º piso                                                     6\n",
       "Av. Libertador 6810 4º A                                                   5\n",
       "calle 7 nº1565 e/64 y 65                                                   5\n",
       "Villa Soldati                                                              5\n",
       "Amenábar 1074                                                              5\n",
       "Lavalle 1790                                                               4\n",
       "Peru 159                                                                   4\n",
       "Nicasio Oroño 1420                                                         4\n",
       "Buenos Aires 1480                                                          4\n",
       "San Isidro                                                                 4\n",
       "Florencio varela 3215                                                      4\n",
       "Gral. Roca 4530                                                            4\n",
       "                                                                          ..\n",
       "Avenida Mariano Castex, Canning, Ezeiza.                                   1\n",
       "Montecastro                                                                1\n",
       "Av. Monroe 4465                                                            1\n",
       "Grecia 3000                                                                1\n",
       "Eva Peron 5800                                                             1\n",
       "Av. Directorio 4743 - CABA                                                 1\n",
       "Agustín De Elía 432                                                        1\n",
       "Bouchard 557                                                               1\n",
       "SENADOR MORON 2385 BELLA VISTA                                             1\n",
       "Jose enrique rodo 6141                                                     1\n",
       "Av. Colón 4450                                                             1\n",
       "Barrio de Villa Crespo                                                     1\n",
       "Monroe 2716                                                                1\n",
       "Santos Dumont 3441                                                         1\n",
       "Avda del Puerto 215  4 piso of 415 Nordelta                                1\n",
       "Hipólito Irigoyen 3883                                                     1\n",
       "Altura peaje ramal Escobar                                                 1\n",
       "Humberto primo 630                                                         1\n",
       "Uriarte 545                                                                1\n",
       "caballito                                                                  1\n",
       "Puerto San Julián                                                          1\n",
       "Au Panamericana, El Talar, Buenos Aires                                    1\n",
       "Escobar                                                                    1\n",
       "Juncal 954                                                                 1\n",
       "Bernardo de irigoyen 60                                                    1\n",
       "Coghlan                                                                    1\n",
       "Calle león XIII N° 154.                                                    1\n",
       "Av. del Bicentenario de la Batalla de Salta (Ex Av. Virrey Toledo) 702     1\n",
       "austria 2100                                                               1\n",
       "Uspallata 3160                                                             1\n",
       "Name: mapacalle, Length: 487, dtype: int64"
      ]
     },
     "execution_count": 344,
     "metadata": {},
     "output_type": "execute_result"
    }
   ],
   "source": [
    "avisos_detalle['mapacalle'].value_counts()"
   ]
  },
  {
   "cell_type": "markdown",
   "metadata": {},
   "source": [
    "# Obs:\n",
    "Muchos en vez de poner dirección precisa ponen Zona"
   ]
  },
  {
   "cell_type": "code",
   "execution_count": 345,
   "metadata": {},
   "outputs": [
    {
     "data": {
      "text/plain": [
       "Full-time          12339\n",
       "Part-time            863\n",
       "Teletrabajo          110\n",
       "Pasantia              63\n",
       "Por Horas             63\n",
       "Temporario            42\n",
       "Por Contrato          37\n",
       "Fines de Semana       14\n",
       "Primer empleo          3\n",
       "Name: tipo_de_trabajo, dtype: int64"
      ]
     },
     "execution_count": 345,
     "metadata": {},
     "output_type": "execute_result"
    }
   ],
   "source": [
    "avisos_detalle['tipo_de_trabajo'].value_counts()"
   ]
  },
  {
   "cell_type": "markdown",
   "metadata": {},
   "source": [
    "# Obs:\n",
    "El grueso es Full-time"
   ]
  },
  {
   "cell_type": "code",
   "execution_count": 346,
   "metadata": {},
   "outputs": [
    {
     "data": {
      "text/plain": [
       "Senior / Semi-Senior                    9407\n",
       "Junior                                  2216\n",
       "Otro                                     921\n",
       "Jefe / Supervisor / Responsable          809\n",
       "Gerencia / Alta Gerencia / Dirección     181\n",
       "Name: nivel_laboral, dtype: int64"
      ]
     },
     "execution_count": 346,
     "metadata": {},
     "output_type": "execute_result"
    }
   ],
   "source": [
    "avisos_detalle['nivel_laboral'].value_counts()"
   ]
  },
  {
   "cell_type": "code",
   "execution_count": 347,
   "metadata": {},
   "outputs": [
    {
     "data": {
      "text/plain": [
       "Ventas                                   1659\n",
       "Comercial                                 983\n",
       "Administración                            901\n",
       "Producción                                821\n",
       "Programación                              576\n",
       "Contabilidad                              416\n",
       "Tecnologia / Sistemas                     388\n",
       "Atención al Cliente                       347\n",
       "Mantenimiento                             324\n",
       "Recursos Humanos                          235\n",
       "Gastronomia                               234\n",
       "Oficios y Profesiones                     209\n",
       "Soporte Técnico                           203\n",
       "Logística                                 200\n",
       "Call Center                               191\n",
       "Almacén / Depósito / Expedición           184\n",
       "Compras                                   170\n",
       "Otros                                     153\n",
       "Marketing                                 153\n",
       "Administración de Personal                152\n",
       "Recepcionista                             151\n",
       "Transporte                                148\n",
       "Mantenimiento y Limpieza                  141\n",
       "Telemarketing                             138\n",
       "Finanzas                                  138\n",
       "Tesorería                                 137\n",
       "Créditos y Cobranzas                      132\n",
       "Salud                                     127\n",
       "Desarrollo de Negocios                    126\n",
       "Medicina                                  119\n",
       "                                         ... \n",
       "Investigación y Desarrollo                  3\n",
       "Diseño 3D                                   2\n",
       "Educación especial                          2\n",
       "Otras áreas técnicas en salud               2\n",
       "Trabajo Social                              2\n",
       "Responsabilidad Social                      2\n",
       "Data Warehousing                            2\n",
       "Farmacia comercial                          2\n",
       "Ingeniería Geológica                        2\n",
       "Medicina Laboral                            2\n",
       "Instrumentación                             2\n",
       "Topografía                                  2\n",
       "Mercadotecnia Internacional                 2\n",
       "Trabajo social                              2\n",
       "Dirección                                   2\n",
       "Diseño Multimedia                           2\n",
       "Emergentología                              1\n",
       "Traduccion                                  1\n",
       "Otras Especialidades médicas                1\n",
       "Arte y Cultura                              1\n",
       "Idiomas                                     1\n",
       "Exploración Minera y Petroquimica           1\n",
       "Quimica                                     1\n",
       "Bienestar Estudiantil                       1\n",
       "Farmacia hospitalaria                       1\n",
       "Comunicaciones Externas                     1\n",
       "Instrumentación quirúrgica                  1\n",
       "Urbanismo                                   1\n",
       "Telefonista                                 1\n",
       "Ingeniería en Petróleo y Petroquímica       1\n",
       "Name: nombre_area, Length: 173, dtype: int64"
      ]
     },
     "execution_count": 347,
     "metadata": {},
     "output_type": "execute_result"
    }
   ],
   "source": [
    "avisos_detalle['nombre_area'].value_counts()"
   ]
  },
  {
   "cell_type": "code",
   "execution_count": 348,
   "metadata": {},
   "outputs": [
    {
     "data": {
      "text/plain": [
       "RANDSTAD                                                                 562\n",
       "Manpower                                                                 422\n",
       "Grupo Gestión                                                            383\n",
       "Assistem                                                                 289\n",
       "SOLUTIX S.A.                                                             260\n",
       "BAYTON                                                                   238\n",
       "Pullmen Servicios Empresarios S.A.                                       229\n",
       "Adecco - Región NORTE & OESTE GBA                                        205\n",
       "Suministra                                                               203\n",
       "Adecco -Región Office                                                    200\n",
       "Consultores de Empresas SRL                                              197\n",
       "Complement Group (holding)                                               160\n",
       "Adecco -Región GBA SUR                                                   160\n",
       "Kaizen Recursos Humanos                                                  110\n",
       "IT Resources                                                             109\n",
       "CrossOver                                                                109\n",
       "Adecco  -Región Litoral                                                  109\n",
       "Excelencia Laboral S.A.                                                   98\n",
       "Swiss Medical Group                                                       88\n",
       "Suple                                                                     88\n",
       "Aliantec                                                                  81\n",
       "Adecco - Región Centro Norte y Agro.                                      76\n",
       "CONA CONSULTORES EN RRHH                                                  75\n",
       "Musimundo  SA                                                             71\n",
       "RH Talentum                                                               71\n",
       "EAYA Consulting                                                           71\n",
       "BBVA Francés                                                              63\n",
       "AB InBev - Cervecería y Maltería Quilmes                                  63\n",
       "ConfiaRH                                                                  63\n",
       "Atento                                                                    62\n",
       "                                                                        ... \n",
       "Banti                                                                      1\n",
       "EPINAC SOCIEDAD ANONIMA                                                    1\n",
       "Industria Vicahi                                                           1\n",
       "ESTUDIO MIRAMONTE & ASOCIADOS                                              1\n",
       "LUANDA MEDICAL CENTER                                                      1\n",
       "DISTRIBUIDORA AGUA Y GAS                                                   1\n",
       "mdos autopartes                                                            1\n",
       "Consultora Gastronómica Foodservice Consulting Group                       1\n",
       "Idenor Ingeniería                                                          1\n",
       "Grupo Midas                                                                1\n",
       "CORPORACION SAN JUSTO S.A.                                                 1\n",
       "ABC Clínica Empresarial                                                    1\n",
       "Paoli SA                                                                   1\n",
       "MODUM Consultora                                                           1\n",
       "DENVER FARMA S.A.                                                          1\n",
       "Gabriela Fasanella Selecciones                                             1\n",
       "MACRI Y ASOCIADOS                                                          1\n",
       "Optica Arte Visual                                                         1\n",
       "KOSIUKO                                                                    1\n",
       "Aware Consultores                                                          1\n",
       "Flores Hogar Grupo Gaona                                                   1\n",
       "A NOVO ARGENTINA S.A.                                                      1\n",
       "RED Real Estate Developers                                                 1\n",
       "Cooperativa de Servicios Publicos Sudamericana de Desarrollo Limitada      1\n",
       "TECNA INGENIERIA                                                           1\n",
       "Cinema Adrogue                                                             1\n",
       "Evolution Store                                                            1\n",
       "PROPEL S.A.C.I.e I.                                                        1\n",
       "AVIAGEN GROUP LTD                                                          1\n",
       "Movil Carga S.A                                                            1\n",
       "Name: denominacion_empresa, Length: 2592, dtype: int64"
      ]
     },
     "execution_count": 348,
     "metadata": {},
     "output_type": "execute_result"
    }
   ],
   "source": [
    "avisos_detalle['denominacion_empresa'].value_counts()"
   ]
  },
  {
   "cell_type": "markdown",
   "metadata": {},
   "source": [
    "# Útiles para las empresas\n",
    "\n",
    "Quieren encontrar talento\n",
    "\n",
    "Quieren poder elegir entre una buena cantidad de postulantes (mejor calidad, más competencia, más baratos)\n",
    "\n"
   ]
  },
  {
   "cell_type": "markdown",
   "metadata": {},
   "source": [
    "## Areas con más y menos vistas"
   ]
  },
  {
   "cell_type": "code",
   "execution_count": 349,
   "metadata": {},
   "outputs": [
    {
     "data": {
      "text/html": [
       "<div>\n",
       "<style scoped>\n",
       "    .dataframe tbody tr th:only-of-type {\n",
       "        vertical-align: middle;\n",
       "    }\n",
       "\n",
       "    .dataframe tbody tr th {\n",
       "        vertical-align: top;\n",
       "    }\n",
       "\n",
       "    .dataframe thead th {\n",
       "        text-align: right;\n",
       "    }\n",
       "</style>\n",
       "<table border=\"1\" class=\"dataframe\">\n",
       "  <thead>\n",
       "    <tr style=\"text-align: right;\">\n",
       "      <th></th>\n",
       "      <th>idAviso</th>\n",
       "      <th>timestamp</th>\n",
       "      <th>idpostulante</th>\n",
       "    </tr>\n",
       "  </thead>\n",
       "  <tbody>\n",
       "    <tr>\n",
       "      <th>0</th>\n",
       "      <td>1111780242</td>\n",
       "      <td>2018-02-23T13:38:13.187-0500</td>\n",
       "      <td>YjVJQ6Z</td>\n",
       "    </tr>\n",
       "    <tr>\n",
       "      <th>1</th>\n",
       "      <td>1112263876</td>\n",
       "      <td>2018-02-23T13:38:14.296-0500</td>\n",
       "      <td>BmVpYoR</td>\n",
       "    </tr>\n",
       "    <tr>\n",
       "      <th>2</th>\n",
       "      <td>1112327963</td>\n",
       "      <td>2018-02-23T13:38:14.329-0500</td>\n",
       "      <td>wVkBzZd</td>\n",
       "    </tr>\n",
       "    <tr>\n",
       "      <th>3</th>\n",
       "      <td>1112318643</td>\n",
       "      <td>2018-02-23T13:38:17.921-0500</td>\n",
       "      <td>OqmP9pv</td>\n",
       "    </tr>\n",
       "    <tr>\n",
       "      <th>4</th>\n",
       "      <td>1111903673</td>\n",
       "      <td>2018-02-23T13:38:18.973-0500</td>\n",
       "      <td>DrpbXDP</td>\n",
       "    </tr>\n",
       "  </tbody>\n",
       "</table>\n",
       "</div>"
      ],
      "text/plain": [
       "      idAviso                     timestamp idpostulante\n",
       "0  1111780242  2018-02-23T13:38:13.187-0500      YjVJQ6Z\n",
       "1  1112263876  2018-02-23T13:38:14.296-0500      BmVpYoR\n",
       "2  1112327963  2018-02-23T13:38:14.329-0500      wVkBzZd\n",
       "3  1112318643  2018-02-23T13:38:17.921-0500      OqmP9pv\n",
       "4  1111903673  2018-02-23T13:38:18.973-0500      DrpbXDP"
      ]
     },
     "execution_count": 349,
     "metadata": {},
     "output_type": "execute_result"
    }
   ],
   "source": [
    "vistas.head()"
   ]
  },
  {
   "cell_type": "code",
   "execution_count": 350,
   "metadata": {},
   "outputs": [
    {
     "data": {
      "text/html": [
       "<div>\n",
       "<style scoped>\n",
       "    .dataframe tbody tr th:only-of-type {\n",
       "        vertical-align: middle;\n",
       "    }\n",
       "\n",
       "    .dataframe tbody tr th {\n",
       "        vertical-align: top;\n",
       "    }\n",
       "\n",
       "    .dataframe thead th {\n",
       "        text-align: right;\n",
       "    }\n",
       "</style>\n",
       "<table border=\"1\" class=\"dataframe\">\n",
       "  <thead>\n",
       "    <tr style=\"text-align: right;\">\n",
       "      <th></th>\n",
       "      <th>idaviso</th>\n",
       "      <th>idpais</th>\n",
       "      <th>titulo</th>\n",
       "      <th>descripcion</th>\n",
       "      <th>nombre_zona</th>\n",
       "      <th>ciudad</th>\n",
       "      <th>mapacalle</th>\n",
       "      <th>tipo_de_trabajo</th>\n",
       "      <th>nivel_laboral</th>\n",
       "      <th>nombre_area</th>\n",
       "      <th>denominacion_empresa</th>\n",
       "    </tr>\n",
       "  </thead>\n",
       "  <tbody>\n",
       "    <tr>\n",
       "      <th>0</th>\n",
       "      <td>8725750</td>\n",
       "      <td>1</td>\n",
       "      <td>VENDEDOR/A PROVINCIA DE SANTA FE</td>\n",
       "      <td>&lt;p&gt;&lt;strong&gt;&lt;strong&gt;Empresa:&lt;/strong&gt;&lt;/strong&gt; ...</td>\n",
       "      <td>Gran Buenos Aires</td>\n",
       "      <td>NaN</td>\n",
       "      <td>NaN</td>\n",
       "      <td>Full-time</td>\n",
       "      <td>Senior / Semi-Senior</td>\n",
       "      <td>Comercial</td>\n",
       "      <td>VENTOR</td>\n",
       "    </tr>\n",
       "    <tr>\n",
       "      <th>1</th>\n",
       "      <td>17903700</td>\n",
       "      <td>1</td>\n",
       "      <td>Enfermeras</td>\n",
       "      <td>&lt;p&gt;Solicitamos para importante cadena de farma...</td>\n",
       "      <td>Gran Buenos Aires</td>\n",
       "      <td>NaN</td>\n",
       "      <td>NaN</td>\n",
       "      <td>Full-time</td>\n",
       "      <td>Senior / Semi-Senior</td>\n",
       "      <td>Salud</td>\n",
       "      <td>Farmacias Central Oeste</td>\n",
       "    </tr>\n",
       "  </tbody>\n",
       "</table>\n",
       "</div>"
      ],
      "text/plain": [
       "    idaviso  idpais                            titulo  \\\n",
       "0   8725750       1  VENDEDOR/A PROVINCIA DE SANTA FE   \n",
       "1  17903700       1                        Enfermeras   \n",
       "\n",
       "                                         descripcion        nombre_zona  \\\n",
       "0  <p><strong><strong>Empresa:</strong></strong> ...  Gran Buenos Aires   \n",
       "1  <p>Solicitamos para importante cadena de farma...  Gran Buenos Aires   \n",
       "\n",
       "  ciudad mapacalle tipo_de_trabajo         nivel_laboral nombre_area  \\\n",
       "0    NaN       NaN       Full-time  Senior / Semi-Senior   Comercial   \n",
       "1    NaN       NaN       Full-time  Senior / Semi-Senior       Salud   \n",
       "\n",
       "      denominacion_empresa  \n",
       "0                   VENTOR  \n",
       "1  Farmacias Central Oeste  "
      ]
     },
     "execution_count": 350,
     "metadata": {},
     "output_type": "execute_result"
    }
   ],
   "source": [
    "avisos_detalle.head(2)"
   ]
  },
  {
   "cell_type": "markdown",
   "metadata": {},
   "source": [
    "Renombramos el índice"
   ]
  },
  {
   "cell_type": "code",
   "execution_count": 351,
   "metadata": {},
   "outputs": [
    {
     "data": {
      "text/html": [
       "<div>\n",
       "<style scoped>\n",
       "    .dataframe tbody tr th:only-of-type {\n",
       "        vertical-align: middle;\n",
       "    }\n",
       "\n",
       "    .dataframe tbody tr th {\n",
       "        vertical-align: top;\n",
       "    }\n",
       "\n",
       "    .dataframe thead th {\n",
       "        text-align: right;\n",
       "    }\n",
       "</style>\n",
       "<table border=\"1\" class=\"dataframe\">\n",
       "  <thead>\n",
       "    <tr style=\"text-align: right;\">\n",
       "      <th></th>\n",
       "      <th>idaviso</th>\n",
       "      <th>timestamp</th>\n",
       "      <th>idpostulante</th>\n",
       "    </tr>\n",
       "  </thead>\n",
       "  <tbody>\n",
       "    <tr>\n",
       "      <th>0</th>\n",
       "      <td>1111780242</td>\n",
       "      <td>2018-02-23T13:38:13.187-0500</td>\n",
       "      <td>YjVJQ6Z</td>\n",
       "    </tr>\n",
       "    <tr>\n",
       "      <th>1</th>\n",
       "      <td>1112263876</td>\n",
       "      <td>2018-02-23T13:38:14.296-0500</td>\n",
       "      <td>BmVpYoR</td>\n",
       "    </tr>\n",
       "  </tbody>\n",
       "</table>\n",
       "</div>"
      ],
      "text/plain": [
       "      idaviso                     timestamp idpostulante\n",
       "0  1111780242  2018-02-23T13:38:13.187-0500      YjVJQ6Z\n",
       "1  1112263876  2018-02-23T13:38:14.296-0500      BmVpYoR"
      ]
     },
     "execution_count": 351,
     "metadata": {},
     "output_type": "execute_result"
    }
   ],
   "source": [
    "vistas_ren = vistas.rename(columns={'idAviso': 'idaviso'})\n",
    "vistas_ren.head(2)"
   ]
  },
  {
   "cell_type": "markdown",
   "metadata": {},
   "source": [
    "Mezclamos las tablas"
   ]
  },
  {
   "cell_type": "code",
   "execution_count": 352,
   "metadata": {},
   "outputs": [],
   "source": [
    "avisos_vistos = pd.merge(vistas_ren, avisos_detalle, on='idaviso', how='inner')"
   ]
  },
  {
   "cell_type": "code",
   "execution_count": 353,
   "metadata": {},
   "outputs": [
    {
     "data": {
      "text/html": [
       "<div>\n",
       "<style scoped>\n",
       "    .dataframe tbody tr th:only-of-type {\n",
       "        vertical-align: middle;\n",
       "    }\n",
       "\n",
       "    .dataframe tbody tr th {\n",
       "        vertical-align: top;\n",
       "    }\n",
       "\n",
       "    .dataframe thead th {\n",
       "        text-align: right;\n",
       "    }\n",
       "</style>\n",
       "<table border=\"1\" class=\"dataframe\">\n",
       "  <thead>\n",
       "    <tr style=\"text-align: right;\">\n",
       "      <th></th>\n",
       "      <th>idaviso</th>\n",
       "      <th>timestamp</th>\n",
       "      <th>idpostulante</th>\n",
       "      <th>idpais</th>\n",
       "      <th>titulo</th>\n",
       "      <th>descripcion</th>\n",
       "      <th>nombre_zona</th>\n",
       "      <th>ciudad</th>\n",
       "      <th>mapacalle</th>\n",
       "      <th>tipo_de_trabajo</th>\n",
       "      <th>nivel_laboral</th>\n",
       "      <th>nombre_area</th>\n",
       "      <th>denominacion_empresa</th>\n",
       "    </tr>\n",
       "  </thead>\n",
       "  <tbody>\n",
       "    <tr>\n",
       "      <th>0</th>\n",
       "      <td>1111780242</td>\n",
       "      <td>2018-02-23T13:38:13.187-0500</td>\n",
       "      <td>YjVJQ6Z</td>\n",
       "      <td>1</td>\n",
       "      <td>OPERARIO PARA DEPOSITO, CONFECCION DE PEDIDOS,...</td>\n",
       "      <td>&lt;p&gt;SE NECESITA OPERIARIO PARA DEPOSITO CONFECC...</td>\n",
       "      <td>Gran Buenos Aires</td>\n",
       "      <td>NaN</td>\n",
       "      <td>NaN</td>\n",
       "      <td>Full-time</td>\n",
       "      <td>Senior / Semi-Senior</td>\n",
       "      <td>Programación de producción</td>\n",
       "      <td>dm</td>\n",
       "    </tr>\n",
       "    <tr>\n",
       "      <th>1</th>\n",
       "      <td>1111780242</td>\n",
       "      <td>2018-02-23T13:39:03.119-0500</td>\n",
       "      <td>dYjRpMD</td>\n",
       "      <td>1</td>\n",
       "      <td>OPERARIO PARA DEPOSITO, CONFECCION DE PEDIDOS,...</td>\n",
       "      <td>&lt;p&gt;SE NECESITA OPERIARIO PARA DEPOSITO CONFECC...</td>\n",
       "      <td>Gran Buenos Aires</td>\n",
       "      <td>NaN</td>\n",
       "      <td>NaN</td>\n",
       "      <td>Full-time</td>\n",
       "      <td>Senior / Semi-Senior</td>\n",
       "      <td>Programación de producción</td>\n",
       "      <td>dm</td>\n",
       "    </tr>\n",
       "  </tbody>\n",
       "</table>\n",
       "</div>"
      ],
      "text/plain": [
       "      idaviso                     timestamp idpostulante  idpais  \\\n",
       "0  1111780242  2018-02-23T13:38:13.187-0500      YjVJQ6Z       1   \n",
       "1  1111780242  2018-02-23T13:39:03.119-0500      dYjRpMD       1   \n",
       "\n",
       "                                              titulo  \\\n",
       "0  OPERARIO PARA DEPOSITO, CONFECCION DE PEDIDOS,...   \n",
       "1  OPERARIO PARA DEPOSITO, CONFECCION DE PEDIDOS,...   \n",
       "\n",
       "                                         descripcion        nombre_zona  \\\n",
       "0  <p>SE NECESITA OPERIARIO PARA DEPOSITO CONFECC...  Gran Buenos Aires   \n",
       "1  <p>SE NECESITA OPERIARIO PARA DEPOSITO CONFECC...  Gran Buenos Aires   \n",
       "\n",
       "  ciudad mapacalle tipo_de_trabajo         nivel_laboral  \\\n",
       "0    NaN       NaN       Full-time  Senior / Semi-Senior   \n",
       "1    NaN       NaN       Full-time  Senior / Semi-Senior   \n",
       "\n",
       "                  nombre_area denominacion_empresa  \n",
       "0  Programación de producción                   dm  \n",
       "1  Programación de producción                   dm  "
      ]
     },
     "execution_count": 353,
     "metadata": {},
     "output_type": "execute_result"
    }
   ],
   "source": [
    "avisos_vistos.head(2)"
   ]
  },
  {
   "cell_type": "code",
   "execution_count": 354,
   "metadata": {},
   "outputs": [
    {
     "data": {
      "text/plain": [
       "Text(0.5,0,'Cantidad de vistas')"
      ]
     },
     "execution_count": 354,
     "metadata": {},
     "output_type": "execute_result"
    },
    {
     "data": {
      "image/png": "[encoded data removed]",
      "text/plain": [
       "<Figure size 720x432 with 1 Axes>"
      ]
     },
     "metadata": {},
     "output_type": "display_data"
    }
   ],
   "source": [
    "areas_mas_vistas = avisos_vistos.groupby('nombre_area').count()['idpostulante'].sort_values(ascending=False)[0:10].sort_values(ascending=True)\n",
    "areas_mas_vistas.plot(kind='barh', figsize=(10,6), color='green');\n",
    "\n",
    "plt.title('Los 10 areas de trabajos con más vistas', fontsize=20);\n",
    "plt.ylabel('Area', fontsize=16);\n",
    "plt.xlabel('Cantidad de vistas', fontsize=16)"
   ]
  },
  {
   "cell_type": "code",
   "execution_count": 355,
   "metadata": {},
   "outputs": [
    {
     "data": {
      "text/plain": [
       "Text(0.5,0,'Cantidad de vistas')"
      ]
     },
     "execution_count": 355,
     "metadata": {},
     "output_type": "execute_result"
    },
    {
     "data": {
      "image/png": "[encoded data removed]",
      "text/plain": [
       "<Figure size 720x432 with 1 Axes>"
      ]
     },
     "metadata": {},
     "output_type": "display_data"
    }
   ],
   "source": [
    "areas_menos_vistas = avisos_vistos.groupby('nombre_area').count()['idpostulante'].sort_values(ascending=True)[0:10].sort_values(ascending=False)\n",
    "areas_menos_vistas.plot(kind='barh', figsize=(10,6), color='green');\n",
    "\n",
    "plt.title('Los 10 areas de trabajos menos vistas', fontsize=20);\n",
    "plt.ylabel('Area', fontsize=16);\n",
    "plt.xlabel('Cantidad de vistas', fontsize=16)"
   ]
  },
  {
   "cell_type": "code",
   "execution_count": 356,
   "metadata": {},
   "outputs": [
    {
     "data": {
      "text/html": [
       "<div>\n",
       "<style scoped>\n",
       "    .dataframe tbody tr th:only-of-type {\n",
       "        vertical-align: middle;\n",
       "    }\n",
       "\n",
       "    .dataframe tbody tr th {\n",
       "        vertical-align: top;\n",
       "    }\n",
       "\n",
       "    .dataframe thead th {\n",
       "        text-align: right;\n",
       "    }\n",
       "</style>\n",
       "<table border=\"1\" class=\"dataframe\">\n",
       "  <thead>\n",
       "    <tr style=\"text-align: right;\">\n",
       "      <th></th>\n",
       "      <th>idaviso</th>\n",
       "      <th>idpostulante</th>\n",
       "      <th>fechapostulacion</th>\n",
       "    </tr>\n",
       "  </thead>\n",
       "  <tbody>\n",
       "    <tr>\n",
       "      <th>0</th>\n",
       "      <td>1112257047</td>\n",
       "      <td>NM5M</td>\n",
       "      <td>2018-01-15 16:22:34</td>\n",
       "    </tr>\n",
       "    <tr>\n",
       "      <th>1</th>\n",
       "      <td>1111920714</td>\n",
       "      <td>NM5M</td>\n",
       "      <td>2018-02-06 09:04:50</td>\n",
       "    </tr>\n",
       "  </tbody>\n",
       "</table>\n",
       "</div>"
      ],
      "text/plain": [
       "      idaviso idpostulante     fechapostulacion\n",
       "0  1112257047         NM5M  2018-01-15 16:22:34\n",
       "1  1111920714         NM5M  2018-02-06 09:04:50"
      ]
     },
     "execution_count": 356,
     "metadata": {},
     "output_type": "execute_result"
    }
   ],
   "source": [
    "postulaciones.head(2)"
   ]
  },
  {
   "cell_type": "markdown",
   "metadata": {},
   "source": [
    "## Áreas con más y menos postulaciones"
   ]
  },
  {
   "cell_type": "code",
   "execution_count": 357,
   "metadata": {},
   "outputs": [],
   "source": [
    "avisos_con_postulaciones = pd.merge(postulaciones, avisos_detalle, on='idaviso', how='inner')"
   ]
  },
  {
   "cell_type": "code",
   "execution_count": 358,
   "metadata": {},
   "outputs": [
    {
     "data": {
      "text/html": [
       "<div>\n",
       "<style scoped>\n",
       "    .dataframe tbody tr th:only-of-type {\n",
       "        vertical-align: middle;\n",
       "    }\n",
       "\n",
       "    .dataframe tbody tr th {\n",
       "        vertical-align: top;\n",
       "    }\n",
       "\n",
       "    .dataframe thead th {\n",
       "        text-align: right;\n",
       "    }\n",
       "</style>\n",
       "<table border=\"1\" class=\"dataframe\">\n",
       "  <thead>\n",
       "    <tr style=\"text-align: right;\">\n",
       "      <th></th>\n",
       "      <th>idaviso</th>\n",
       "      <th>idpostulante</th>\n",
       "      <th>fechapostulacion</th>\n",
       "      <th>idpais</th>\n",
       "      <th>titulo</th>\n",
       "      <th>descripcion</th>\n",
       "      <th>nombre_zona</th>\n",
       "      <th>ciudad</th>\n",
       "      <th>mapacalle</th>\n",
       "      <th>tipo_de_trabajo</th>\n",
       "      <th>nivel_laboral</th>\n",
       "      <th>nombre_area</th>\n",
       "      <th>denominacion_empresa</th>\n",
       "    </tr>\n",
       "  </thead>\n",
       "  <tbody>\n",
       "    <tr>\n",
       "      <th>0</th>\n",
       "      <td>1112257047</td>\n",
       "      <td>NM5M</td>\n",
       "      <td>2018-01-15 16:22:34</td>\n",
       "      <td>1</td>\n",
       "      <td>REPRESENTANTES DE ATENCIÓN AL CLIENTE/ RETENCIÓN</td>\n",
       "      <td>&lt;p&gt;&lt;strong&gt;&lt;em&gt;&lt;span style=\"\"&gt;En &lt;/span&gt;&lt;/em&gt;&lt;...</td>\n",
       "      <td>Gran Buenos Aires</td>\n",
       "      <td>NaN</td>\n",
       "      <td>NaN</td>\n",
       "      <td>Part-time</td>\n",
       "      <td>Otro</td>\n",
       "      <td>Atención al Cliente</td>\n",
       "      <td>Eficasia Argentina SA</td>\n",
       "    </tr>\n",
       "    <tr>\n",
       "      <th>1</th>\n",
       "      <td>1112257047</td>\n",
       "      <td>1kJqGb</td>\n",
       "      <td>2018-01-15 10:23:11</td>\n",
       "      <td>1</td>\n",
       "      <td>REPRESENTANTES DE ATENCIÓN AL CLIENTE/ RETENCIÓN</td>\n",
       "      <td>&lt;p&gt;&lt;strong&gt;&lt;em&gt;&lt;span style=\"\"&gt;En &lt;/span&gt;&lt;/em&gt;&lt;...</td>\n",
       "      <td>Gran Buenos Aires</td>\n",
       "      <td>NaN</td>\n",
       "      <td>NaN</td>\n",
       "      <td>Part-time</td>\n",
       "      <td>Otro</td>\n",
       "      <td>Atención al Cliente</td>\n",
       "      <td>Eficasia Argentina SA</td>\n",
       "    </tr>\n",
       "  </tbody>\n",
       "</table>\n",
       "</div>"
      ],
      "text/plain": [
       "      idaviso idpostulante     fechapostulacion  idpais  \\\n",
       "0  1112257047         NM5M  2018-01-15 16:22:34       1   \n",
       "1  1112257047       1kJqGb  2018-01-15 10:23:11       1   \n",
       "\n",
       "                                             titulo  \\\n",
       "0  REPRESENTANTES DE ATENCIÓN AL CLIENTE/ RETENCIÓN   \n",
       "1  REPRESENTANTES DE ATENCIÓN AL CLIENTE/ RETENCIÓN   \n",
       "\n",
       "                                         descripcion        nombre_zona  \\\n",
       "0  <p><strong><em><span style=\"\">En </span></em><...  Gran Buenos Aires   \n",
       "1  <p><strong><em><span style=\"\">En </span></em><...  Gran Buenos Aires   \n",
       "\n",
       "  ciudad mapacalle tipo_de_trabajo nivel_laboral          nombre_area  \\\n",
       "0    NaN       NaN       Part-time          Otro  Atención al Cliente   \n",
       "1    NaN       NaN       Part-time          Otro  Atención al Cliente   \n",
       "\n",
       "     denominacion_empresa  \n",
       "0  Eficasia Argentina SA   \n",
       "1  Eficasia Argentina SA   "
      ]
     },
     "execution_count": 358,
     "metadata": {},
     "output_type": "execute_result"
    }
   ],
   "source": [
    "avisos_con_postulaciones.head(2)"
   ]
  },
  {
   "cell_type": "code",
   "execution_count": 359,
   "metadata": {},
   "outputs": [
    {
     "data": {
      "text/plain": [
       "Text(0.5,0,'Cantidad de postulaciones')"
      ]
     },
     "execution_count": 359,
     "metadata": {},
     "output_type": "execute_result"
    },
    {
     "data": {
      "image/png": "[encoded data removed]",
      "text/plain": [
       "<Figure size 720x432 with 1 Axes>"
      ]
     },
     "metadata": {},
     "output_type": "display_data"
    }
   ],
   "source": [
    "areas_mas_postuladas = avisos_con_postulaciones.groupby('nombre_area').count()['idpostulante'].sort_values(ascending=False)[0:10].sort_values(ascending=True)\n",
    "areas_mas_postuladas.plot(kind='barh', figsize=(10,6), color='blue', );\n",
    "\n",
    "plt.title('Los 10 areas de trabajos con más postulantes', fontsize=20);\n",
    "plt.ylabel('Area', fontsize=16);\n",
    "plt.xlabel('Cantidad de postulaciones', fontsize=16)"
   ]
  },
  {
   "cell_type": "code",
   "execution_count": 360,
   "metadata": {},
   "outputs": [
    {
     "data": {
      "text/plain": [
       "Text(0.5,0,'Cantidad de postulaciones')"
      ]
     },
     "execution_count": 360,
     "metadata": {},
     "output_type": "execute_result"
    },
    {
     "data": {
      "image/png": "[encoded data removed]",
      "text/plain": [
       "<Figure size 720x432 with 1 Axes>"
      ]
     },
     "metadata": {},
     "output_type": "display_data"
    }
   ],
   "source": [
    "areas_menos_postuladas = avisos_con_postulaciones.groupby('nombre_area').count()['idpostulante'].sort_values(ascending=True)[0:10].sort_values(ascending=False)\n",
    "areas_menos_postuladas.plot(kind='barh', figsize=(10,6), color='blue', );\n",
    "\n",
    "plt.title('Los 10 areas de trabajos con menos postulantes', fontsize=20);\n",
    "plt.ylabel('Area', fontsize=16);\n",
    "plt.xlabel('Cantidad de postulaciones', fontsize=16)"
   ]
  },
  {
   "cell_type": "markdown",
   "metadata": {},
   "source": [
    "## Observaciones\n",
    "En las gráficos de arriba los casos con menos vistas y menos postulaciones se presentan más como una curiosidad pero para análisis estadísticos siguientes utilizaremos los casos con más vistas/postulaciones.\n",
    "\n",
    "Nos quedamos con las que tienen al menos 1000 vistas y menos de 20000 para el siguiente análisis\n",
    "\n",
    "### Primero para las mas vistas"
   ]
  },
  {
   "cell_type": "code",
   "execution_count": 361,
   "metadata": {},
   "outputs": [],
   "source": [
    "N1 = 1000\n",
    "N2 = 20000"
   ]
  },
  {
   "cell_type": "code",
   "execution_count": 362,
   "metadata": {},
   "outputs": [],
   "source": [
    "areas_mas_vistas = avisos_vistos.groupby('nombre_area').count()['idpostulante'].sort_values(ascending=False)"
   ]
  },
  {
   "cell_type": "code",
   "execution_count": 363,
   "metadata": {},
   "outputs": [
    {
     "data": {
      "text/plain": [
       "nombre_area\n",
       "Ventas                 128025\n",
       "Administración         102812\n",
       "Producción              64485\n",
       "Comercial               58885\n",
       "Atención al Cliente     49203\n",
       "Name: idpostulante, dtype: int64"
      ]
     },
     "execution_count": 363,
     "metadata": {},
     "output_type": "execute_result"
    }
   ],
   "source": [
    "areas_mas_vistas.head(5)"
   ]
  },
  {
   "cell_type": "code",
   "execution_count": 364,
   "metadata": {},
   "outputs": [],
   "source": [
    "areas_mas_vistas_mayor_mil = areas_mas_vistas[(areas_mas_vistas >= N1) & (areas_mas_vistas <= N2)]\n"
   ]
  },
  {
   "cell_type": "code",
   "execution_count": 365,
   "metadata": {},
   "outputs": [
    {
     "data": {
      "text/plain": [
       "(79,)"
      ]
     },
     "execution_count": 365,
     "metadata": {},
     "output_type": "execute_result"
    }
   ],
   "source": [
    "areas_mas_vistas_mayor_mil.shape"
   ]
  },
  {
   "cell_type": "code",
   "execution_count": 366,
   "metadata": {},
   "outputs": [],
   "source": [
    "vistas_mil = areas_mas_vistas_mayor_mil.to_dict()"
   ]
  },
  {
   "cell_type": "markdown",
   "metadata": {},
   "source": [
    "### Para los postulantes"
   ]
  },
  {
   "cell_type": "code",
   "execution_count": 367,
   "metadata": {},
   "outputs": [],
   "source": [
    "areas_mas_postuladas = avisos_con_postulaciones.groupby('nombre_area').count()['idpostulante'].sort_values(ascending=False)"
   ]
  },
  {
   "cell_type": "code",
   "execution_count": 368,
   "metadata": {},
   "outputs": [
    {
     "data": {
      "text/plain": [
       "nombre_area\n",
       "Ventas                 408148\n",
       "Administración         291135\n",
       "Producción             277089\n",
       "Comercial              216677\n",
       "Atención al Cliente    195636\n",
       "Name: idpostulante, dtype: int64"
      ]
     },
     "execution_count": 368,
     "metadata": {},
     "output_type": "execute_result"
    }
   ],
   "source": [
    "areas_mas_postuladas.head(5)"
   ]
  },
  {
   "cell_type": "code",
   "execution_count": 369,
   "metadata": {},
   "outputs": [],
   "source": [
    "areas_mas_postuladas_mayor_mil = areas_mas_postuladas[(areas_mas_postuladas >= N1) & (areas_mas_postuladas <= N2)]"
   ]
  },
  {
   "cell_type": "code",
   "execution_count": 370,
   "metadata": {},
   "outputs": [
    {
     "data": {
      "text/plain": [
       "(84,)"
      ]
     },
     "execution_count": 370,
     "metadata": {},
     "output_type": "execute_result"
    }
   ],
   "source": [
    "areas_mas_postuladas_mayor_mil.shape"
   ]
  },
  {
   "cell_type": "code",
   "execution_count": 371,
   "metadata": {},
   "outputs": [],
   "source": [
    "postulaciones_mil = areas_mas_postuladas_mayor_mil.to_dict()"
   ]
  },
  {
   "cell_type": "markdown",
   "metadata": {},
   "source": [
    "### Merge"
   ]
  },
  {
   "cell_type": "code",
   "execution_count": 372,
   "metadata": {},
   "outputs": [],
   "source": [
    "data = {}\n",
    "i = 0\n",
    "for k in postulaciones_mil.keys():\n",
    "    a = vistas_mil.get(k, -1)\n",
    "    if a > 0:\n",
    "        data[i] = (k, vistas_mil[k], postulaciones_mil[k])\n",
    "        i = i + 1"
   ]
  },
  {
   "cell_type": "code",
   "execution_count": 373,
   "metadata": {},
   "outputs": [],
   "source": [
    "vistas_vs_postulaciones = pd.DataFrame(data).transpose().rename(columns={0: 'area', 1: 'vistas', 2: 'postulaciones'})"
   ]
  },
  {
   "cell_type": "code",
   "execution_count": 374,
   "metadata": {},
   "outputs": [
    {
     "data": {
      "text/html": [
       "<div>\n",
       "<style scoped>\n",
       "    .dataframe tbody tr th:only-of-type {\n",
       "        vertical-align: middle;\n",
       "    }\n",
       "\n",
       "    .dataframe tbody tr th {\n",
       "        vertical-align: top;\n",
       "    }\n",
       "\n",
       "    .dataframe thead th {\n",
       "        text-align: right;\n",
       "    }\n",
       "</style>\n",
       "<table border=\"1\" class=\"dataframe\">\n",
       "  <thead>\n",
       "    <tr style=\"text-align: right;\">\n",
       "      <th></th>\n",
       "      <th>area</th>\n",
       "      <th>vistas</th>\n",
       "      <th>postulaciones</th>\n",
       "    </tr>\n",
       "  </thead>\n",
       "  <tbody>\n",
       "    <tr>\n",
       "      <th>0</th>\n",
       "      <td>Jóvenes Profesionales</td>\n",
       "      <td>5556</td>\n",
       "      <td>13430</td>\n",
       "    </tr>\n",
       "    <tr>\n",
       "      <th>1</th>\n",
       "      <td>Facturación</td>\n",
       "      <td>1398</td>\n",
       "      <td>10589</td>\n",
       "    </tr>\n",
       "    <tr>\n",
       "      <th>2</th>\n",
       "      <td>Mineria/Petroleo/Gas</td>\n",
       "      <td>1286</td>\n",
       "      <td>4109</td>\n",
       "    </tr>\n",
       "    <tr>\n",
       "      <th>3</th>\n",
       "      <td>Asistente</td>\n",
       "      <td>6079</td>\n",
       "      <td>17272</td>\n",
       "    </tr>\n",
       "    <tr>\n",
       "      <th>4</th>\n",
       "      <td>Capacitación</td>\n",
       "      <td>1133</td>\n",
       "      <td>4389</td>\n",
       "    </tr>\n",
       "  </tbody>\n",
       "</table>\n",
       "</div>"
      ],
      "text/plain": [
       "                    area vistas postulaciones\n",
       "0  Jóvenes Profesionales   5556         13430\n",
       "1            Facturación   1398         10589\n",
       "2   Mineria/Petroleo/Gas   1286          4109\n",
       "3              Asistente   6079         17272\n",
       "4           Capacitación   1133          4389"
      ]
     },
     "execution_count": 374,
     "metadata": {},
     "output_type": "execute_result"
    }
   ],
   "source": [
    "vistas_vs_postulaciones.head()"
   ]
  },
  {
   "cell_type": "code",
   "execution_count": 375,
   "metadata": {},
   "outputs": [
    {
     "data": {
      "text/plain": [
       "Text(0.5,0,'Cantidad de vistas')"
      ]
     },
     "execution_count": 375,
     "metadata": {},
     "output_type": "execute_result"
    },
    {
     "data": {
      "image/png": "[encoded data removed]",
      "text/plain": [
       "<Figure size 576x360 with 1 Axes>"
      ]
     },
     "metadata": {},
     "output_type": "display_data"
    }
   ],
   "source": [
    "vistas_vs_postulaciones.plot(x='vistas', y='postulaciones', style='s', kind='line', figsize=(8,5), grid=True);\n",
    "\n",
    "plt.legend(['Area'])\n",
    "plt.title('Vistas vs Postulaciones', fontsize=20);\n",
    "plt.ylabel('Cantidad de postulaciones', fontsize=16);\n",
    "plt.xlabel('Cantidad de vistas', fontsize=16)"
   ]
  },
  {
   "cell_type": "code",
   "execution_count": 376,
   "metadata": {},
   "outputs": [
    {
     "data": {
      "text/plain": [
       "1.0"
      ]
     },
     "execution_count": 376,
     "metadata": {},
     "output_type": "execute_result"
    }
   ],
   "source": [
    "\n",
    "df = pd.DataFrame({'A': range(4), 'B': [2*i for i in range(4)]})\n",
    "df['A'].corr(df['B'])"
   ]
  },
  {
   "cell_type": "code",
   "execution_count": 377,
   "metadata": {},
   "outputs": [
    {
     "name": "stdout",
     "output_type": "stream",
     "text": [
      "<class 'pandas.core.frame.DataFrame'>\n",
      "Int64Index: 61 entries, 0 to 60\n",
      "Data columns (total 3 columns):\n",
      "area             61 non-null object\n",
      "vistas           61 non-null object\n",
      "postulaciones    61 non-null object\n",
      "dtypes: object(3)\n",
      "memory usage: 1.9+ KB\n"
     ]
    }
   ],
   "source": [
    "vistas_vs_postulaciones.info()"
   ]
  },
  {
   "cell_type": "code",
   "execution_count": 378,
   "metadata": {},
   "outputs": [
    {
     "name": "stdout",
     "output_type": "stream",
     "text": [
      "<class 'pandas.core.frame.DataFrame'>\n",
      "Int64Index: 61 entries, 0 to 60\n",
      "Data columns (total 3 columns):\n",
      "area             61 non-null object\n",
      "vistas           61 non-null float64\n",
      "postulaciones    61 non-null float64\n",
      "dtypes: float64(2), object(1)\n",
      "memory usage: 1.9+ KB\n"
     ]
    }
   ],
   "source": [
    "vistas_vs_postulaciones['vistas'] = np.float64(vistas_vs_postulaciones['vistas'])\n",
    "vistas_vs_postulaciones['postulaciones'] = np.float64(vistas_vs_postulaciones['postulaciones'])\n",
    "vistas_vs_postulaciones.info()"
   ]
  },
  {
   "cell_type": "code",
   "execution_count": 379,
   "metadata": {},
   "outputs": [
    {
     "data": {
      "text/plain": [
       "0.889912600137745"
      ]
     },
     "execution_count": 379,
     "metadata": {},
     "output_type": "execute_result"
    }
   ],
   "source": [
    "vistas_vs_postulaciones['vistas'].corr(vistas_vs_postulaciones['postulaciones'])"
   ]
  },
  {
   "cell_type": "markdown",
   "metadata": {},
   "source": [
    "# Observaciones\n",
    "Como esperábamos podemos ver que que exite una correlación entre los anuncios vistos y los anuncios que reciben postulaciones"
   ]
  },
  {
   "cell_type": "code",
   "execution_count": null,
   "metadata": {},
   "outputs": [],
   "source": []
  }
 ],
 "metadata": {
  "kernelspec": {
   "display_name": "Python 3",
   "language": "python",
   "name": "python3"
  },
  "language_info": {
   "codemirror_mode": {
    "name": "ipython",
    "version": 3
   },
   "file_extension": ".py",
   "mimetype": "text/x-python",
   "name": "python",
   "nbconvert_exporter": "python",
   "pygments_lexer": "ipython3",
   "version": "3.5.2"
  }
 },
 "nbformat": 4,
 "nbformat_minor": 2
}
